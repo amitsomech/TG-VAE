{
 "cells": [
  {
   "cell_type": "code",
   "execution_count": 1,
   "metadata": {},
   "outputs": [],
   "source": [
    "import pickle\n",
    "import pandas as pd\n",
    "import os\n",
    "import numpy as np\n",
    "import matplotlib.pyplot as plt\n",
    "from sklearn.manifold import TSNE\n",
    "from torch_geometric.datasets import Planetoid\n",
    "from torch_geometric.nn import Node2Vec\n",
    "from torch_geometric.nn import GCNConv, GAE, VGAE\n",
    "from torch_geometric.data import Data\n",
    "import seaborn as sns\n"
   ]
  },
  {
   "cell_type": "code",
   "execution_count": 2,
   "metadata": {},
   "outputs": [],
   "source": [
    "import torch\n",
    "import torch.nn.functional as F\n",
    "from torch.utils.data import DataLoader\n",
    "\n",
    "\n",
    "from torch_geometric.utils import train_test_split_edges\n",
    "from torch_geometric.datasets import Planetoid\n",
    "from torch_geometric.nn import Node2Vec\n",
    "from torch_geometric.nn import GCNConv, GAE, VGAE\n",
    "from torch_geometric.data import Data"
   ]
  },
  {
   "cell_type": "code",
   "execution_count": 3,
   "metadata": {},
   "outputs": [],
   "source": [
    "os.chdir(\"..\")"
   ]
  },
  {
   "cell_type": "code",
   "execution_count": 4,
   "metadata": {},
   "outputs": [],
   "source": [
    "from utils.general import gen_model_uuid, gen_dir"
   ]
  },
  {
   "cell_type": "code",
   "execution_count": 5,
   "metadata": {},
   "outputs": [],
   "source": [
    "LOAD_DATASET = True\n",
    "BUILD_CORPUS = True\n",
    "BUILD_MODEL = True\n",
    "VECTORIZE_TABLES = True\n",
    "EVALUATE_RESULTS = True"
   ]
  },
  {
   "cell_type": "code",
   "execution_count": 6,
   "metadata": {},
   "outputs": [],
   "source": [
    "#use None if you want a new model\n",
    "MODEL_UUID = \"b55bc694cbbc4d9196f3a9869496d107_GAE\"\n",
    "MODEL_DESCRIPTION = \"GAE\"\n",
    "#MODEL_UUID = None"
   ]
  },
  {
   "cell_type": "code",
   "execution_count": 7,
   "metadata": {},
   "outputs": [],
   "source": [
    "if not MODEL_UUID:\n",
    "    MODEL_UUID = gen_model_uuid(MODEL_DESCRIPTION)\n",
    "    print(MODEL_UUID)"
   ]
  },
  {
   "cell_type": "code",
   "execution_count": 8,
   "metadata": {},
   "outputs": [],
   "source": [
    "dataset_path=\"./datasets/benchmarks/sales_classification.pickle\""
   ]
  },
  {
   "cell_type": "code",
   "execution_count": 9,
   "metadata": {},
   "outputs": [],
   "source": [
    "if LOAD_DATASET:\n",
    "    dataset= pickle.load(open(dataset_path,\"rb\"))\n",
    "else:\n",
    "    dataset=None"
   ]
  },
  {
   "cell_type": "code",
   "execution_count": 10,
   "metadata": {},
   "outputs": [],
   "source": [
    "CONF = {\n",
    "    \"add_attr\":True,\n",
    "    \"add_columns\":True,\n",
    "    \"vector_size\":100,\n",
    "    \"row_window_size\":20,\n",
    "    \"col_window_size\":100,\n",
    "    \"min_count\":2  \n",
    "}"
   ]
  },
  {
   "cell_type": "code",
   "execution_count": 11,
   "metadata": {},
   "outputs": [],
   "source": [
    "def increment_count(cell_dict, ID, key):\n",
    "    \"\"\"\n",
    "    Puts the key in the dictionary and assigns an ID if does not exist or adds one to repeats if it does.\n",
    "    Args:\n",
    "        dict: a dictionary mapping a tuple of strings to a tuple (ID, repeats)\n",
    "        ID:   an ID to assign if key doesn't exist\n",
    "        key:  a tuple containing attribute and value\n",
    "    Return:\n",
    "        ID:      next ID to assign\n",
    "        curr_ID: ID of the current key\n",
    "    \"\"\"\n",
    "    \n",
    "    if key in cell_dict:        \n",
    "        cell_dict[key] = (cell_dict[key][0], cell_dict[key][1] + 1)\n",
    "    else:\n",
    "        cell_dict[key] = (ID, 1)        \n",
    "        ID += 1\n",
    "    return ID, cell_dict[key][0]\n",
    "\n",
    "\n",
    "def tokenize_table(table,cell_dict,ID,include_attr=True):\n",
    "    ttable=np.zeros(table.shape,dtype=np.int64)\n",
    "    for i,row in enumerate(table.values):\n",
    "        for (j, cell) in enumerate(row):\n",
    "            if include_attr:\n",
    "                key=(table.columns[j],cell)\n",
    "            else:\n",
    "                key=cell\n",
    "            ID, curr_ID  = increment_count(cell_dict, ID,key)             \n",
    "            ttable[i,j]=curr_ID\n",
    "    return ttable,ID\n",
    "\n",
    "def create_corpus(tables,include_attr=False):\n",
    "    cell_dict={}\n",
    "    ID=0\n",
    "    tokenized_tables=[]\n",
    "    for table_entry in tables:\n",
    "        table=table_entry[\"table\"]\n",
    "    #Process TT first\n",
    "        #tt=tables_dict[table_entry][\"table\"]\n",
    "        tokenized_tt,ID= tokenize_table(table,cell_dict,ID,include_attr=include_attr)\n",
    "        tokenized_tables.append(tokenized_tt)\n",
    "    vocabulary=range(ID)\n",
    "    reversed_dictionary = dict(zip([x[0] for x in cell_dict.values()], cell_dict.keys()))\n",
    "    #f = open(output_path, 'wb')\n",
    "    return tokenized_tables, vocabulary, cell_dict, reversed_dictionary\n",
    "\n"
   ]
  },
  {
   "cell_type": "code",
   "execution_count": 12,
   "metadata": {},
   "outputs": [],
   "source": [
    "if BUILD_CORPUS:\n",
    "    corpus_dir = gen_dir(MODEL_UUID,\"corpus/\")\n",
    "    corpus_path= os.path.join(corpus_dir,\"corpus_tuple.pickle\")\n",
    "    if not dataset:\n",
    "        dataset= pickle.load(open(dataset_path,\"rb\"))\n",
    "        \n",
    "    corpus_tuple = create_corpus(dataset,include_attr=CONF[\"add_attr\"])\n",
    "    pickle.dump(corpus_tuple,open(corpus_path,\"wb\"))\n",
    "else:\n",
    "    corpus_tuple = pickle.load(open(corpus_path,\"rb\"))"
   ]
  },
  {
   "cell_type": "code",
   "execution_count": 13,
   "metadata": {},
   "outputs": [],
   "source": [
    "tokenized_tables, vocabulary, cell_dict, reversed_dictionary = corpus_tuple"
   ]
  },
  {
   "cell_type": "markdown",
   "metadata": {},
   "source": [
    "# Build table graphs"
   ]
  },
  {
   "cell_type": "code",
   "execution_count": 14,
   "metadata": {},
   "outputs": [],
   "source": [
    "def process_row(edges_dict,row):\n",
    "    for r1 in row:\n",
    "        for r2 in row:\n",
    "            if r1==r2:\n",
    "                continue\n",
    "            s,t = tuple(sorted((r1,r2)))\n",
    "            if ((s,t)) in edges_dict:\n",
    "                edges_dict[(s,t)]+=1\n",
    "            else:\n",
    "                edges_dict[(s,t)]=1\n",
    "            \n",
    "    \n",
    "    "
   ]
  },
  {
   "cell_type": "code",
   "execution_count": 15,
   "metadata": {},
   "outputs": [],
   "source": [
    "def get_edges(matrices):\n",
    "    edges_dict={}\n",
    "    for m in matrices:\n",
    "        for row in m:\n",
    "            process_row(edges_dict,row)\n",
    "    return edges_dict"
   ]
  },
  {
   "cell_type": "code",
   "execution_count": 16,
   "metadata": {},
   "outputs": [],
   "source": [
    "edges=get_edges(tokenized_tables)"
   ]
  },
  {
   "cell_type": "code",
   "execution_count": 17,
   "metadata": {},
   "outputs": [],
   "source": [
    "sources=[s for (s,_) in edges]"
   ]
  },
  {
   "cell_type": "code",
   "execution_count": 18,
   "metadata": {},
   "outputs": [],
   "source": [
    "targets=[t for (_,t) in edges]"
   ]
  },
  {
   "cell_type": "code",
   "execution_count": 19,
   "metadata": {},
   "outputs": [],
   "source": [
    "e1=sources+targets\n",
    "e2=targets+sources"
   ]
  },
  {
   "cell_type": "code",
   "execution_count": 20,
   "metadata": {},
   "outputs": [],
   "source": [
    "weights = list(edges.values())"
   ]
  },
  {
   "cell_type": "code",
   "execution_count": 21,
   "metadata": {},
   "outputs": [],
   "source": [
    "edge_index = torch.tensor([e1,e2],dtype=torch.long)"
   ]
  },
  {
   "cell_type": "code",
   "execution_count": 71,
   "metadata": {},
   "outputs": [],
   "source": [
    "edge_weights= torch.tensor(weights+weights,dtype=torch.float32)"
   ]
  },
  {
   "cell_type": "code",
   "execution_count": 159,
   "metadata": {},
   "outputs": [],
   "source": [
    "nodes = torch.ones(len(vocabulary),dtype=torch.float32)"
   ]
  },
  {
   "cell_type": "code",
   "execution_count": 72,
   "metadata": {},
   "outputs": [],
   "source": [
    "#nodes=torch.tensor(vocabulary,dtype=torch.float32)"
   ]
  },
  {
   "cell_type": "code",
   "execution_count": 162,
   "metadata": {},
   "outputs": [
    {
     "data": {
      "text/plain": [
       "15759"
      ]
     },
     "execution_count": 162,
     "metadata": {},
     "output_type": "execute_result"
    }
   ],
   "source": [
    "len(vocabulary)"
   ]
  },
  {
   "cell_type": "code",
   "execution_count": 163,
   "metadata": {},
   "outputs": [],
   "source": [
    "nodes=nodes.reshape((len(nodes),1))"
   ]
  },
  {
   "cell_type": "code",
   "execution_count": 200,
   "metadata": {},
   "outputs": [],
   "source": [
    "graph_data = Data(x=nodes,edge_index=edge_index,edge_attr=edge_weights)"
   ]
  },
  {
   "cell_type": "code",
   "execution_count": 201,
   "metadata": {},
   "outputs": [
    {
     "data": {
      "text/plain": [
       "Data(edge_attr=[1808242], edge_index=[2, 1808242], x=[15759, 1])"
      ]
     },
     "execution_count": 201,
     "metadata": {},
     "output_type": "execute_result"
    }
   ],
   "source": [
    "graph_data"
   ]
  },
  {
   "cell_type": "markdown",
   "metadata": {},
   "source": [
    "## Train GAE"
   ]
  },
  {
   "cell_type": "code",
   "execution_count": 202,
   "metadata": {},
   "outputs": [],
   "source": [
    "class Encoder(torch.nn.Module):\n",
    "    def __init__(self, in_channels, out_channels):\n",
    "        super(Encoder, self).__init__()\n",
    "        self.conv1 = GCNConv(in_channels, 2 * out_channels, cached=True)\n",
    "        self.conv2 = GCNConv(2 * out_channels, out_channels, cached=True)\n",
    "\n",
    "    def forward(self, x, edge_index):\n",
    "        x = F.relu(self.conv1(x, edge_index))\n",
    "        return self.conv2(x, edge_index)\n"
   ]
  },
  {
   "cell_type": "code",
   "execution_count": 203,
   "metadata": {},
   "outputs": [],
   "source": [
    "loader = DataLoader(torch.arange(graph_data.num_nodes), batch_size=128, shuffle=True)\n",
    "device = 'cuda' if torch.cuda.is_available() else 'cpu'"
   ]
  },
  {
   "cell_type": "code",
   "execution_count": 204,
   "metadata": {},
   "outputs": [],
   "source": [
    "channels=100"
   ]
  },
  {
   "cell_type": "code",
   "execution_count": 205,
   "metadata": {},
   "outputs": [],
   "source": [
    "enc = Encoder(graph_data.num_features, channels)"
   ]
  },
  {
   "cell_type": "code",
   "execution_count": 206,
   "metadata": {},
   "outputs": [],
   "source": [
    "model = GAE(enc)\n",
    "model = model.to(device)"
   ]
  },
  {
   "cell_type": "code",
   "execution_count": 207,
   "metadata": {},
   "outputs": [],
   "source": [
    "graph_data.train_mask = graph_data.val_mask = graph_data.test_mask = graph_data.y = None"
   ]
  },
  {
   "cell_type": "code",
   "execution_count": 208,
   "metadata": {},
   "outputs": [],
   "source": [
    "graph_data = train_test_split_edges(graph_data)"
   ]
  },
  {
   "cell_type": "code",
   "execution_count": 209,
   "metadata": {},
   "outputs": [],
   "source": [
    "x, train_pos_edge_index = graph_data.x.to(device), graph_data.train_pos_edge_index.to(device)"
   ]
  },
  {
   "cell_type": "code",
   "execution_count": 210,
   "metadata": {},
   "outputs": [],
   "source": [
    "optimizer = torch.optim.Adam(model.parameters(), lr=0.01)"
   ]
  },
  {
   "cell_type": "code",
   "execution_count": 211,
   "metadata": {},
   "outputs": [],
   "source": [
    "def train():\n",
    "    model.train()\n",
    "    optimizer.zero_grad()\n",
    "    z = model.encode(x, train_pos_edge_index)\n",
    "    loss = model.recon_loss(z, train_pos_edge_index)\n",
    "    loss.backward()\n",
    "    optimizer.step()\n",
    "\n",
    "\n",
    "def test(pos_edge_index, neg_edge_index):\n",
    "    model.eval()\n",
    "    with torch.no_grad():\n",
    "        z = model.encode(x, train_pos_edge_index)\n",
    "    return model.test(z, pos_edge_index, neg_edge_index)"
   ]
  },
  {
   "cell_type": "code",
   "execution_count": 212,
   "metadata": {},
   "outputs": [
    {
     "data": {
      "text/plain": [
       "Data(edge_attr=[1808242], test_neg_edge_index=[2, 90412], test_pos_edge_index=[2, 90412], train_neg_adj_mask=[15759, 15759], train_pos_edge_index=[2, 1537006], val_neg_edge_index=[2, 45206], val_pos_edge_index=[2, 45206], x=[15759, 1])"
      ]
     },
     "execution_count": 212,
     "metadata": {},
     "output_type": "execute_result"
    }
   ],
   "source": [
    "graph_data"
   ]
  },
  {
   "cell_type": "code",
   "execution_count": 213,
   "metadata": {},
   "outputs": [
    {
     "data": {
      "text/plain": [
       "904121"
      ]
     },
     "execution_count": 213,
     "metadata": {},
     "output_type": "execute_result"
    }
   ],
   "source": [
    "len(edges)"
   ]
  },
  {
   "cell_type": "code",
   "execution_count": 214,
   "metadata": {},
   "outputs": [
    {
     "data": {
      "text/plain": [
       "15759"
      ]
     },
     "execution_count": 214,
     "metadata": {},
     "output_type": "execute_result"
    }
   ],
   "source": [
    "len(nodes)"
   ]
  },
  {
   "cell_type": "code",
   "execution_count": 215,
   "metadata": {},
   "outputs": [
    {
     "data": {
      "text/plain": [
       "tensor([    0,     0,     0,  ..., 15758, 15758, 15758])"
      ]
     },
     "execution_count": 215,
     "metadata": {},
     "output_type": "execute_result"
    }
   ],
   "source": [
    "graph_data.train_pos_edge_index[0]"
   ]
  },
  {
   "cell_type": "code",
   "execution_count": 216,
   "metadata": {},
   "outputs": [
    {
     "name": "stdout",
     "output_type": "stream",
     "text": [
      "Epoch: 001, AUC: 0.9788, AP: 0.9799\n",
      "Epoch: 002, AUC: 0.9784, AP: 0.9796\n",
      "Epoch: 003, AUC: 0.9779, AP: 0.9791\n",
      "Epoch: 004, AUC: 0.9791, AP: 0.9801\n",
      "Epoch: 005, AUC: 0.9797, AP: 0.9805\n",
      "Epoch: 006, AUC: 0.9800, AP: 0.9807\n",
      "Epoch: 007, AUC: 0.9802, AP: 0.9808\n",
      "Epoch: 008, AUC: 0.9803, AP: 0.9809\n",
      "Epoch: 009, AUC: 0.9805, AP: 0.9809\n"
     ]
    }
   ],
   "source": [
    "for epoch in range(1, 10):\n",
    "    train()\n",
    "    auc, ap = test(graph_data.test_pos_edge_index, graph_data.test_neg_edge_index)\n",
    "    print('Epoch: {:03d}, AUC: {:.4f}, AP: {:.4f}'.format(epoch, auc, ap))"
   ]
  },
  {
   "cell_type": "markdown",
   "metadata": {},
   "source": [
    "## Generate Table Vectors"
   ]
  },
  {
   "cell_type": "code",
   "execution_count": 217,
   "metadata": {},
   "outputs": [],
   "source": [
    "model.eval()\n",
    "with torch.no_grad():\n",
    "    z = model.encode(x, train_pos_edge_index)\n",
    "    cell_vectors = z.cpu().numpy()\n",
    "\n"
   ]
  },
  {
   "cell_type": "code",
   "execution_count": 220,
   "metadata": {},
   "outputs": [
    {
     "data": {
      "text/plain": [
       "(15759, 100)"
      ]
     },
     "execution_count": 220,
     "metadata": {},
     "output_type": "execute_result"
    }
   ],
   "source": [
    "cell_vectors.shape"
   ]
  },
  {
   "cell_type": "code",
   "execution_count": 186,
   "metadata": {},
   "outputs": [],
   "source": [
    "def get_vector(cell_id,cell_vectors):\n",
    "    return cell_vectors[cell_id]\n",
    "\n",
    "def generate_table_vectors(cell_vectors,tokenized_tables):\n",
    "    vec_list=[]\n",
    "    for table in tokenized_tables:\n",
    "        vec_table=[get_vector(x,cell_vectors) for _,x in np.ndenumerate(table)]\n",
    "        m=np.nanmean(vec_table,axis=0)\n",
    "        vec_list.append(m)\n",
    "    return vec_list\n",
    "    "
   ]
  },
  {
   "cell_type": "code",
   "execution_count": 221,
   "metadata": {},
   "outputs": [],
   "source": [
    "if VECTORIZE_TABLES:\n",
    "    vectors_dir=gen_dir(MODEL_UUID,\"vectors\")\n",
    "    vectors_path=os.path.join(vectors_dir,\"table_vectors.pickle\")\n",
    "    vec_list=generate_table_vectors(cell_vectors,tokenized_tables)\n",
    "    pickle.dump(vec_list,open(vectors_path,\"wb\"))\n",
    "else:\n",
    "    vec_list = pickle.load(open(vectors_path,\"rb\"))"
   ]
  },
  {
   "cell_type": "code",
   "execution_count": 234,
   "metadata": {},
   "outputs": [],
   "source": [
    "similarities = euclidean_distances(vec_list)\n",
    "sim=pd.DataFrame(similarities)"
   ]
  },
  {
   "cell_type": "code",
   "execution_count": 237,
   "metadata": {},
   "outputs": [
    {
     "data": {
      "text/plain": [
       "0      0.000000\n",
       "965    0.001699\n",
       "927    0.002230\n",
       "44     0.002346\n",
       "966    0.002379\n",
       "         ...   \n",
       "396    0.911870\n",
       "517    0.912776\n",
       "46     0.920626\n",
       "48     0.921188\n",
       "516    0.926815\n",
       "Name: 0, Length: 1000, dtype: float32"
      ]
     },
     "execution_count": 237,
     "metadata": {},
     "output_type": "execute_result"
    }
   ],
   "source": [
    "sim[0].sort_valueslues()"
   ]
  },
  {
   "cell_type": "code",
   "execution_count": null,
   "metadata": {},
   "outputs": [],
   "source": []
  },
  {
   "cell_type": "markdown",
   "metadata": {},
   "source": [
    "## 4) Evaluate the Model\n"
   ]
  },
  {
   "cell_type": "code",
   "execution_count": 224,
   "metadata": {},
   "outputs": [],
   "source": [
    "from sklearn.decomposition import PCA\n",
    "from scipy.spatial.distance import cosine,euclidean\n",
    "from sklearn.metrics import euclidean_distances\n",
    "from sklearn.manifold import MDS"
   ]
  },
  {
   "cell_type": "code",
   "execution_count": 225,
   "metadata": {},
   "outputs": [],
   "source": [
    "k=5"
   ]
  },
  {
   "cell_type": "code",
   "execution_count": 226,
   "metadata": {},
   "outputs": [],
   "source": [
    "def count_hits(col,k):\n",
    "    topsim=list(col.sort_values()[0:k].index)\n",
    "    s_label=dataset[topsim[0]][\"label\"]\n",
    "    lab_list=[dataset[i][\"label\"] for i in topsim[1:]]\n",
    "    return len([l for l in lab_list if l==s_label ])\n",
    "\n",
    "def evaluate_model(dataset,vec_list,k=5):\n",
    "    similarities = euclidean_distances(vec_list)\n",
    "    sim=pd.DataFrame(similarities)\n",
    "    a=sim.apply(lambda x:count_hits(x,k),axis=1)\n",
    "    a.sum()\n",
    "    result_score=a.sum()/(len(sim)*k)\n",
    "    return result_score\n",
    "    "
   ]
  },
  {
   "cell_type": "code",
   "execution_count": 227,
   "metadata": {},
   "outputs": [],
   "source": [
    "if EVALUATE_RESULTS:\n",
    "    results_dir=gen_dir(MODEL_UUID,\"results\")\n",
    "    results_path=os.path.join(results_dir,\"results.pickle\")\n",
    "    result_score=evaluate_model(dataset,vec_list,k=k)\n",
    "    results_dict=CONF.copy()\n",
    "    results_dict[\"score\"]=result_score\n",
    "    results_dict[\"dataset\"]=dataset_path\n",
    "    results_dict[\"model_id\"]=MODEL_UUID\n",
    "    results_dict[\"model_description\"]=MODEL_DESCRIPTION\n",
    "    results_dict[\"topk_size\"]=k\n",
    "    pickle.dump(results_dict,open(results_path,\"wb\"))\n",
    "    \n",
    "    "
   ]
  },
  {
   "cell_type": "code",
   "execution_count": 228,
   "metadata": {},
   "outputs": [
    {
     "data": {
      "text/plain": [
       "{'add_attr': True,\n",
       " 'add_columns': True,\n",
       " 'vector_size': 100,\n",
       " 'row_window_size': 20,\n",
       " 'col_window_size': 100,\n",
       " 'min_count': 2,\n",
       " 'score': 0.081,\n",
       " 'dataset': './datasets/benchmarks/sales_classification.pickle',\n",
       " 'model_id': 'b55bc694cbbc4d9196f3a9869496d107_GAE',\n",
       " 'model_description': 'GAE',\n",
       " 'topk_size': 5}"
      ]
     },
     "execution_count": 228,
     "metadata": {},
     "output_type": "execute_result"
    }
   ],
   "source": [
    "results_dict"
   ]
  },
  {
   "cell_type": "markdown",
   "metadata": {},
   "source": [
    "### Visualize"
   ]
  },
  {
   "cell_type": "code",
   "execution_count": 229,
   "metadata": {},
   "outputs": [],
   "source": [
    "from sklearn.manifold import TSNE"
   ]
  },
  {
   "cell_type": "code",
   "execution_count": 230,
   "metadata": {},
   "outputs": [],
   "source": [
    "vals = TSNE(n_components=2).fit_transform(vec_list)"
   ]
  },
  {
   "cell_type": "code",
   "execution_count": 231,
   "metadata": {},
   "outputs": [],
   "source": [
    "d=pd.DataFrame(vals)\n",
    "\n",
    "labels=[(t[\"id\"],t[\"label\"]) for t in dataset]\n",
    "\n",
    "dd=pd.DataFrame(labels)\n",
    "\n",
    "dd.columns=[\"tid\",\"label\"]\n",
    "\n",
    "d.columns=[\"x\",\"y\"]\n",
    "\n",
    "d=d.join(dd[\"label\"])"
   ]
  },
  {
   "cell_type": "code",
   "execution_count": 232,
   "metadata": {},
   "outputs": [
    {
     "data": {
      "text/plain": [
       "<matplotlib.axes._subplots.AxesSubplot at 0x7fbb66b635d0>"
      ]
     },
     "execution_count": 232,
     "metadata": {},
     "output_type": "execute_result"
    },
    {
     "data": {
      "image/png": "[encoded data removed]",
      "text/plain": [
       "<Figure size 432x288 with 1 Axes>"
      ]
     },
     "metadata": {
      "needs_background": "light"
     },
     "output_type": "display_data"
    }
   ],
   "source": [
    "sns.scatterplot(data=d,x=\"x\",y=\"y\",hue=\"label\",legend=False)"
   ]
  },
  {
   "cell_type": "code",
   "execution_count": null,
   "metadata": {},
   "outputs": [],
   "source": []
  }
 ],
 "metadata": {
  "kernelspec": {
   "display_name": "table2vec",
   "language": "python",
   "name": "table2vec"
  },
  "language_info": {
   "codemirror_mode": {
    "name": "ipython",
    "version": 3
   },
   "file_extension": ".py",
   "mimetype": "text/x-python",
   "name": "python",
   "nbconvert_exporter": "python",
   "pygments_lexer": "ipython3",
   "version": "3.7.6"
  }
 },
 "nbformat": 4,
 "nbformat_minor": 2
}
