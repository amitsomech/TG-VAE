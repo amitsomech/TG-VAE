{
 "cells": [
  {
   "cell_type": "code",
   "execution_count": 1,
   "metadata": {},
   "outputs": [],
   "source": [
    "import pickle\n",
    "import pandas as pd\n",
    "import os\n",
    "import numpy as np\n",
    "import matplotlib.pyplot as plt\n",
    "from sklearn.manifold import TSNE\n",
    "from torch_geometric.datasets import Planetoid\n",
    "from torch_geometric.nn import Node2Vec\n",
    "from torch_geometric.nn import GCNConv, GAE, VGAE\n",
    "from torch_geometric.data import Data\n",
    "import seaborn as sns\n"
   ]
  },
  {
   "cell_type": "code",
   "execution_count": 2,
   "metadata": {},
   "outputs": [],
   "source": [
    "import torch\n",
    "import torch.nn.functional as F\n",
    "from torch.utils.data import DataLoader\n",
    "\n",
    "\n",
    "from torch_geometric.utils import train_test_split_edges\n",
    "from torch_geometric.datasets import Planetoid\n",
    "from torch_geometric.nn import Node2Vec\n",
    "from torch_geometric.nn import GCNConv, GAE, VGAE\n",
    "from torch_geometric.data import Data"
   ]
  },
  {
   "cell_type": "code",
   "execution_count": 3,
   "metadata": {},
   "outputs": [],
   "source": [
    "os.chdir(\"..\")"
   ]
  },
  {
   "cell_type": "code",
   "execution_count": 4,
   "metadata": {},
   "outputs": [],
   "source": [
    "from utils.general import gen_model_uuid, gen_dir"
   ]
  },
  {
   "cell_type": "code",
   "execution_count": 10,
   "metadata": {},
   "outputs": [],
   "source": [
    "LOAD_DATASET = True\n",
    "BUILD_CORPUS = True\n",
    "BUILD_MODEL = True\n",
    "VECTORIZE_TABLES = True\n",
    "EVALUATE_RESULTS = True"
   ]
  },
  {
   "cell_type": "code",
   "execution_count": 5,
   "metadata": {},
   "outputs": [],
   "source": [
    "#use None if you want a new model\n",
    "#MODEL_UUID = \"60a011217f344169b89d91edc3cb15b1_VGAE\"\n",
    "MODEL_DESCRIPTION = \"VGAE\"\n",
    "MODEL_UUID = None"
   ]
  },
  {
   "cell_type": "code",
   "execution_count": 6,
   "metadata": {},
   "outputs": [
    {
     "name": "stdout",
     "output_type": "stream",
     "text": [
      "60a011217f344169b89d91edc3cb15b1_VGAE\n"
     ]
    }
   ],
   "source": [
    "if not MODEL_UUID:\n",
    "    MODEL_UUID = gen_model_uuid(MODEL_DESCRIPTION)\n",
    "    print(MODEL_UUID)"
   ]
  },
  {
   "cell_type": "code",
   "execution_count": 7,
   "metadata": {},
   "outputs": [],
   "source": [
    "dataset_path=\"./datasets/benchmarks/sales_classification.pickle\""
   ]
  },
  {
   "cell_type": "code",
   "execution_count": 11,
   "metadata": {},
   "outputs": [],
   "source": [
    "if LOAD_DATASET:\n",
    "    dataset= pickle.load(open(dataset_path,\"rb\"))\n",
    "else:\n",
    "    dataset=None"
   ]
  },
  {
   "cell_type": "code",
   "execution_count": 1483,
   "metadata": {},
   "outputs": [],
   "source": [
    "dataset=dataset[:50]"
   ]
  },
  {
   "cell_type": "code",
   "execution_count": 1830,
   "metadata": {},
   "outputs": [],
   "source": [
    "CONF = {\n",
    "    \"add_attr\":True,\n",
    "    \"shuffle_vocab\": True,\n",
    "    \"add_columns\":False,\n",
    "    \"vector_size\":50,\n",
    "    \"edges_sample\":1.0,\n",
    "    \"epoch_num\":10\n",
    "#    \"row_window_size\":20,\n",
    "#    \"col_window_size\":100,\n",
    "#    \"min_count\":2  \n",
    "}"
   ]
  },
  {
   "cell_type": "code",
   "execution_count": 1670,
   "metadata": {},
   "outputs": [],
   "source": [
    "def increment_count(cell_dict, ID, key):\n",
    "    \"\"\"\n",
    "    Puts the key in the dictionary and assigns an ID if does not exist or adds one to repeats if it does.\n",
    "    Args:\n",
    "        dict: a dictionary mapping a tuple of strings to a tuple (ID, repeats)\n",
    "        ID:   an ID to assign if key doesn't exist\n",
    "        key:  a tuple containing attribute and value\n",
    "    Return:\n",
    "        ID:      next ID to assign\n",
    "        curr_ID: ID of the current key\n",
    "    \"\"\"\n",
    "    \n",
    "    if key in cell_dict:        \n",
    "        cell_dict[key] = (cell_dict[key][0], cell_dict[key][1] + 1)\n",
    "    else:\n",
    "        cell_dict[key] = (ID, 1)        \n",
    "        ID += 1\n",
    "    return ID, cell_dict[key][0]\n",
    "\n",
    "\n",
    "def tokenize_table(table,cell_dict,ID,include_attr=True):\n",
    "    ttable=np.zeros(table.shape,dtype=np.int64)\n",
    "    for i,row in enumerate(table.values):\n",
    "        for (j, cell) in enumerate(row):\n",
    "            if include_attr:\n",
    "                key=(table.columns[j],cell)\n",
    "            else:\n",
    "                key=cell\n",
    "            ID, curr_ID  = increment_count(cell_dict, ID,key)             \n",
    "            ttable[i,j]=curr_ID\n",
    "    return ttable,ID\n",
    "\n",
    "def create_corpus(tables,include_attr=False):\n",
    "    cell_dict={}\n",
    "    ID=0\n",
    "    tokenized_tables=[]\n",
    "    for table_entry in tables:\n",
    "        table=table_entry[\"table\"]\n",
    "    #Process TT first\n",
    "        #tt=tables_dict[table_entry][\"table\"]\n",
    "        tokenized_tt,ID= tokenize_table(table,cell_dict,ID,include_attr=include_attr)\n",
    "        tokenized_tables.append(tokenized_tt)\n",
    "    vocabulary=range(ID)\n",
    "    reversed_dictionary = dict(zip([x[0] for x in cell_dict.values()], cell_dict.keys()))\n",
    "    #f = open(output_path, 'wb')\n",
    "    return tokenized_tables, vocabulary, cell_dict, reversed_dictionary\n",
    "\n"
   ]
  },
  {
   "cell_type": "code",
   "execution_count": 1671,
   "metadata": {},
   "outputs": [],
   "source": [
    "if BUILD_CORPUS:\n",
    "    corpus_dir = gen_dir(MODEL_UUID,\"corpus/\")\n",
    "    corpus_path= os.path.join(corpus_dir,\"corpus_tuple.pickle\")\n",
    "    if not dataset:\n",
    "        dataset= pickle.load(open(dataset_path,\"rb\"))\n",
    "        \n",
    "    corpus_tuple = create_corpus(dataset,include_attr=CONF[\"add_attr\"])\n",
    "    pickle.dump(corpus_tuple,open(corpus_path,\"wb\"))\n",
    "else:\n",
    "    corpus_tuple = pickle.load(open(corpus_path,\"rb\"))"
   ]
  },
  {
   "cell_type": "code",
   "execution_count": 1672,
   "metadata": {},
   "outputs": [],
   "source": [
    "tokenized_tables, vocabulary, cell_dict, reversed_dictionary = corpus_tuple"
   ]
  },
  {
   "cell_type": "markdown",
   "metadata": {},
   "source": [
    "# Build table graphs"
   ]
  },
  {
   "cell_type": "markdown",
   "metadata": {},
   "source": [
    "### attempt to shuffle the vocab"
   ]
  },
  {
   "cell_type": "code",
   "execution_count": 1673,
   "metadata": {},
   "outputs": [],
   "source": [
    "def shuffle_vocabulary(vocabulary):\n",
    "    return np.random.permutation(vocabulary)\n",
    "\n",
    "\n",
    "def process_row(edges_dict,row,s_vocab=None):\n",
    "    for r1 in row:\n",
    "        for r2 in row:\n",
    "            if r1==r2:\n",
    "                continue\n",
    "            s,t = tuple(sorted((r1,r2)))\n",
    "            if s_vocab is not None:\n",
    "                s,t = s_vocab[s],s_vocab[t]\n",
    "            if ((s,t)) in edges_dict:\n",
    "                edges_dict[(s,t)]+=1\n",
    "            else:\n",
    "                edges_dict[(s,t)]=1\n",
    "\n",
    "def get_edges(matrices,s_vocab=None):\n",
    "    edges_dict={}\n",
    "    for m in matrices:\n",
    "        for row in m:\n",
    "            process_row(edges_dict,row,s_vocab=s_vocab)\n",
    "    return edges_dict\n",
    "    \n",
    "def build_graph_edges(tokenized_tables,s_vocab=None,sample_frac=1.0):\n",
    "    edges=get_edges(tokenized_tables,s_vocab=shuffled_vocab)\n",
    "    edges_list = []\n",
    "    for (s,t), size in edges.items():\n",
    "        edges_list.append({\"source\":s,\"target\":t,\"weight\":size})\n",
    "    edges_df = pd.DataFrame(edges_list)\n",
    "    #take sample:\n",
    "    sample_edges=edges_df.sample(frac=sample_frac,weights='weight')\n",
    "    \n",
    "    #build the coo edges arrays:\n",
    "    sources=sample_edges.source.values\n",
    "    targets=sample_edges.target.values\n",
    "    e1=np.concatenate((sources,targets))\n",
    "    e2=np.concatenate((targets,sources))\n",
    "    weights = sample_edges.weight.values\n",
    "    edge_index = torch.tensor([e1,e2],dtype=torch.long)\n",
    "    edge_weights= torch.tensor(np.concatenate((weights,weights)),dtype=torch.float32)\n",
    "    return edge_index, edge_weights\n",
    "\n",
    "def build_node_features(vocabulary,type=\"ones\"):\n",
    "    #ways to deal with **featuresless** nodes\n",
    "    if type == \"ones\":\n",
    "        nodes = torch.ones(len(vocabulary),dtype=torch.float32)\n",
    "        nodes=nodes.reshape((len(nodes),1))\n",
    "    elif type == \"ordinal\":\n",
    "        nodes=torch.tensor(vocabulary,dtype=torch.float32)\n",
    "        nodes=nodes.reshape((len(nodes),1))\n",
    "    elif type == \"onehot\":\n",
    "        nodes = torch.sparse.torch.eye(len(vocabulary))\n",
    "    return nodes\n",
    "        \n",
    "\n",
    "\n"
   ]
  },
  {
   "cell_type": "code",
   "execution_count": 1674,
   "metadata": {},
   "outputs": [],
   "source": [
    "if CONF[\"shuffle_vocab\"] == True:\n",
    "    shuffled_vocab = shuffle_vocabulary(vocabulary)\n",
    "else:\n",
    "    shuffled_vocab = None"
   ]
  },
  {
   "cell_type": "code",
   "execution_count": 1826,
   "metadata": {},
   "outputs": [],
   "source": [
    "edge_index, edge_weights = build_graph_edges(tokenized_tables,s_vocab=shuffled_vocab,sample_frac=CONF[\"edges_sample\"])\n",
    "nodes = build_node_features(vocabulary)\n",
    "graph_data = Data(x=nodes,edge_index=edge_index,edge_attr=edge_weights)"
   ]
  },
  {
   "cell_type": "code",
   "execution_count": 1827,
   "metadata": {},
   "outputs": [],
   "source": [
    "#train_test split the edges:\n"
   ]
  },
  {
   "cell_type": "markdown",
   "metadata": {},
   "source": [
    "## Specific Model:  VGAE"
   ]
  },
  {
   "cell_type": "code",
   "execution_count": 1828,
   "metadata": {},
   "outputs": [],
   "source": [
    "device = 'cuda' if torch.cuda.is_available() else 'cpu'\n",
    "#loader = DataLoader(torch.arange(graph_data.num_nodes), batch_size=128, shuffle=True)"
   ]
  },
  {
   "cell_type": "markdown",
   "metadata": {},
   "source": [
    "### 1) Dataset adaptations:"
   ]
  },
  {
   "cell_type": "code",
   "execution_count": 1829,
   "metadata": {},
   "outputs": [],
   "source": [
    "#for VAE we split the edges to train/test\n",
    "graph_data.train_mask = graph_data.val_mask = graph_data.test_mask = graph_data.y = None\n",
    "graph_data = train_test_split_edges(graph_data)\n",
    "\n",
    "x, train_pos_edge_index = graph_data.x.to(device), graph_data.train_pos_edge_index.to(device)"
   ]
  },
  {
   "cell_type": "markdown",
   "metadata": {},
   "source": [
    "### 2) Training the model:"
   ]
  },
  {
   "cell_type": "code",
   "execution_count": 1696,
   "metadata": {},
   "outputs": [],
   "source": [
    "class Encoder(torch.nn.Module):\n",
    "    def __init__(self, in_channels, out_channels):\n",
    "        super(Encoder, self).__init__()\n",
    "        self.conv1 = GCNConv(in_channels, 2 * out_channels, cached=True)\n",
    "        self.conv_mu = GCNConv(2 * out_channels, out_channels, cached=True)\n",
    "        self.conv_logvar = GCNConv(\n",
    "            2 * out_channels, out_channels, cached=True)\n",
    "    def forward(self, x, edge_index):\n",
    "        x = F.relu(self.conv1(x, edge_index))\n",
    "        return self.conv_mu(x, edge_index), self.conv_logvar(x, edge_index)\n"
   ]
  },
  {
   "cell_type": "code",
   "execution_count": 1698,
   "metadata": {},
   "outputs": [],
   "source": [
    "channels=CONF[\"vector_size\"]"
   ]
  },
  {
   "cell_type": "code",
   "execution_count": 1699,
   "metadata": {},
   "outputs": [],
   "source": [
    "enc = Encoder(graph_data.num_features, channels)\n",
    "model = VGAE(enc)\n",
    "model = model.to(device)"
   ]
  },
  {
   "cell_type": "code",
   "execution_count": 1701,
   "metadata": {},
   "outputs": [],
   "source": [
    "optimizer = torch.optim.Adam(model.parameters(), lr=0.01)"
   ]
  },
  {
   "cell_type": "code",
   "execution_count": 1702,
   "metadata": {},
   "outputs": [],
   "source": [
    "def train_all():\n",
    "    model.train()\n",
    "    optimizer.zero_grad()\n",
    "    z = model.encode(x, train_pos_edge_index)\n",
    "    loss = model.recon_loss(z, train_pos_edge_index)\n",
    "#    loss = model.kl_loss()\n",
    "    \n",
    "    loss.backward()\n",
    "    optimizer.step()\n",
    "\n",
    "def train():\n",
    "    model.train()\n",
    "    optimizer.zero_grad()\n",
    "    z = model.encode(x, train_pos_edge_index)\n",
    "    #loss = model.recon_loss(z, train_pos_edge_index)\n",
    "    loss = model.kl_loss()\n",
    "    print(loss.detach().numpy())\n",
    "    loss.backward()\n",
    "    optimizer.step()\n",
    "\n",
    "\n",
    "def test(pos_edge_index, neg_edge_index):\n",
    "    model.eval()\n",
    "    with torch.no_grad():\n",
    "        z = model.encode(x, train_pos_edge_index)\n",
    "    return model.test(z, pos_edge_index, neg_edge_index)"
   ]
  },
  {
   "cell_type": "code",
   "execution_count": null,
   "metadata": {},
   "outputs": [],
   "source": []
  },
  {
   "cell_type": "code",
   "execution_count": 1831,
   "metadata": {},
   "outputs": [
    {
     "name": "stdout",
     "output_type": "stream",
     "text": [
      "0.027050748\n",
      "Epoch: 000, AUC: 0.8291, AP: 0.8166\n",
      "0.021669442\n",
      "Epoch: 001, AUC: 0.8368, AP: 0.8210\n",
      "0.018178798\n",
      "Epoch: 002, AUC: 0.8001, AP: 0.7719\n",
      "0.015456671\n",
      "Epoch: 003, AUC: 0.7273, AP: 0.6831\n",
      "0.012988236\n",
      "Epoch: 004, AUC: 0.6289, AP: 0.5865\n",
      "0.010864864\n",
      "Epoch: 005, AUC: 0.5046, AP: 0.4931\n",
      "0.009260772\n",
      "Epoch: 006, AUC: 0.3652, AP: 0.4135\n",
      "0.008260139\n",
      "Epoch: 007, AUC: 0.2429, AP: 0.3627\n",
      "0.0077937986\n",
      "Epoch: 008, AUC: 0.1430, AP: 0.3345\n",
      "0.0076535116\n",
      "Epoch: 009, AUC: 0.0987, AP: 0.3259\n"
     ]
    }
   ],
   "source": [
    "for epoch in range(CONF[\"epoch_num\"]):\n",
    "    train()\n",
    "    auc, ap = test(graph_data.test_pos_edge_index, graph_data.test_neg_edge_index)\n",
    "    print('Epoch: {:03d}, AUC: {:.4f}, AP: {:.4f}'.format(epoch, auc, ap))"
   ]
  },
  {
   "cell_type": "markdown",
   "metadata": {},
   "source": [
    "### 3) Extract the latent cell vectors:"
   ]
  },
  {
   "cell_type": "code",
   "execution_count": null,
   "metadata": {},
   "outputs": [],
   "source": [
    "model.eval()\n",
    "with torch.no_grad():\n",
    "    z = model.encode(x, train_pos_edge_index)\n",
    "    cell_vectors = z.cpu().numpy()\n"
   ]
  },
  {
   "cell_type": "markdown",
   "metadata": {},
   "source": [
    "## Generate Table Vectors"
   ]
  },
  {
   "cell_type": "code",
   "execution_count": 1817,
   "metadata": {},
   "outputs": [],
   "source": [
    "def get_vector(cell_id,cell_vectors,s_vocab=None):\n",
    "    if s_vocab is not None:\n",
    "        cell_id = s_vocab[cell_id]\n",
    "    return cell_vectors[cell_id]\n",
    "\n",
    "def generate_table_vectors(cell_vectors,tokenized_tables,s_vocab=None):\n",
    "    vec_list=[]\n",
    "    for table in tokenized_tables:\n",
    "        vec_table=[get_vector(x,cell_vectors,s_vocab=s_vocab) for _,x in np.ndenumerate(table)]\n",
    "        m=np.nansum(vec_table,axis=0)\n",
    "        vec_list.append(m)\n",
    "    return vec_list\n",
    "\n",
    "def plot_sample_vectors(cell_vectors,sample_size=1000):\n",
    "    idx = np.random.randint(len(cell_vectors), size=sample_size)\n",
    "    sample = cell_vectors[idx,:]\n",
    "    vals = TSNE(n_components=2,init='pca').fit_transform(sample)\n",
    "    sns.scatterplot(x=vals[:,0],y=vals[:,1])\n",
    "\n",
    "def plot_single_table_vectors(table,s_vocab=None):\n",
    "    vec_table=[]\n",
    "    for col_id in range(table.shape[1]):\n",
    "        #print(col_id)\n",
    "        vec_table+=[{\"vector\":get_vector(x,cell_vectors,s_vocab=s_vocab),\"col_id\":col_id} for _,x in np.ndenumerate(table[:,col_id])]\n",
    "\n",
    "    vec_df=pd.DataFrame(vec_table)\n",
    "    x = TSNE(n_components=2,init='pca').fit_transform(list(vec_df.vector.values))\n",
    "    vec_df[\"x\"]=x.T[0]\n",
    "    vec_df[\"y\"]=x.T[1]\n",
    "    vec_df.col_id=vec_df.col_id.astype(\"category\")\n",
    "    sns.scatterplot(x=\"x\",y=\"y\",data=vec_df,hue=\"col_id\")\n",
    "    plt.legend(bbox_to_anchor=(1.05, 1), loc=2, borderaxespad=0.)\n",
    "\n",
    "def plot_table_vectors(vec_list,table_dataset):\n",
    "    vals = TSNE(n_components=2,init='pca').fit_transform(vec_list)\n",
    "    d=pd.DataFrame(vals)\n",
    "    labels=[(t[\"id\"],t[\"label\"]) for t in table_dataset]\n",
    "    dd=pd.DataFrame(labels)\n",
    "    dd.columns=[\"tid\",\"label\"]\n",
    "    d.columns=[\"x\",\"y\"]\n",
    "    d=d.join(dd[\"label\"])\n",
    "    sns.scatterplot(data=d,x=\"x\",y=\"y\",hue=\"label\")\n",
    "    plt.legend(bbox_to_anchor=(1.05, 1), loc=2, borderaxespad=0.)\n",
    "\n",
    "def plot_single_table_relative_vectors(table,s_vocab=None):\n",
    "    vec_table=[]\n",
    "    for col_id in range(table.shape[1]):\n",
    "        #print(col_id)\n",
    "        vec_table+=[{\"vector\":get_vector(x,cell_vectors,s_vocab=s_vocab),\"col_id\":col_id} for _,x in np.ndenumerate(table[:,col_id])]\n",
    "    mean_vec =np.nanmean([v[\"vector\"] for v in vec_table],axis=0)\n",
    "    #print(mean_vec)\n",
    "    vec_df=pd.DataFrame(vec_table)\n",
    "    vec_list = list(vec_df.vector.values)\n",
    "    vec_list.append(mean_vec)\n",
    "    #print(vec_list)\n",
    "    tsne_vecs = TSNE(n_components=2,init='pca').fit_transform(vec_list)\n",
    "    x = tsne_vecs[:-1]\n",
    "    mean_tsne= tsne_vecs[-1]\n",
    "    vec_df[\"x\"]=x.T[0]\n",
    "    vec_df[\"y\"]=x.T[1]\n",
    "    vec_df.col_id=vec_df.col_id.astype(\"category\")\n",
    "    vec_df[\"str_vec\"]=vec_df.vector.apply(str)\n",
    "    g=pd.DataFrame(vec_df.groupby(\"str_vec\").vector.count())\n",
    "    nv=vec_df[[\"x\",\"y\",\"str_vec\",\"col_id\"]].drop_duplicates(\"str_vec\").set_index(\"str_vec\")\n",
    "    final=nv.join(g)\n",
    "    clrs = sns.color_palette('tab20', n_colors=17)\n",
    "    sns.relplot(x=\"x\", y=\"y\", hue=\"col_id\", size=\"vector\",\n",
    "                sizes=(40,400), alpha=.8,\n",
    "                height=6, data=final,palette=clrs)\n",
    "    plt.scatter(mean_tsne[0],mean_tsne[1],marker='X',s=100,color='red')\n",
    "\n",
    "    #plt.legend(bbox_to_anchor=(1.05, 1), loc=2, borderaxespad=0.)\n"
   ]
  },
  {
   "cell_type": "code",
   "execution_count": 1705,
   "metadata": {},
   "outputs": [
    {
     "data": {
      "image/png": "[encoded data removed]",
      "text/plain": [
       "<Figure size 432x288 with 1 Axes>"
      ]
     },
     "metadata": {
      "needs_background": "light"
     },
     "output_type": "display_data"
    }
   ],
   "source": [
    "\n",
    "plot_sample_vectors(cell_vectors)"
   ]
  },
  {
   "cell_type": "code",
   "execution_count": 1821,
   "metadata": {},
   "outputs": [
    {
     "data": {
      "text/html": [
       "<div>\n",
       "<style scoped>\n",
       "    .dataframe tbody tr th:only-of-type {\n",
       "        vertical-align: middle;\n",
       "    }\n",
       "\n",
       "    .dataframe tbody tr th {\n",
       "        vertical-align: top;\n",
       "    }\n",
       "\n",
       "    .dataframe thead th {\n",
       "        text-align: right;\n",
       "    }\n",
       "</style>\n",
       "<table border=\"1\" class=\"dataframe\">\n",
       "  <thead>\n",
       "    <tr style=\"text-align: right;\">\n",
       "      <th></th>\n",
       "      <th>DayOfWeek</th>\n",
       "      <th>Date</th>\n",
       "      <th>Sales</th>\n",
       "      <th>Customers</th>\n",
       "      <th>Open</th>\n",
       "      <th>Promo</th>\n",
       "      <th>StateHoliday</th>\n",
       "      <th>SchoolHoliday</th>\n",
       "      <th>StoreType</th>\n",
       "      <th>Assortment</th>\n",
       "      <th>CompetitionDistance</th>\n",
       "      <th>CompetitionOpenSinceMonth</th>\n",
       "      <th>CompetitionOpenSinceYear</th>\n",
       "      <th>Promo2</th>\n",
       "      <th>Promo2SinceWeek</th>\n",
       "      <th>Promo2SinceYear</th>\n",
       "      <th>PromoInterval</th>\n",
       "    </tr>\n",
       "  </thead>\n",
       "  <tbody>\n",
       "    <tr>\n",
       "      <th>287028</th>\n",
       "      <td>5</td>\n",
       "      <td>2014-11-07</td>\n",
       "      <td>8865</td>\n",
       "      <td>676</td>\n",
       "      <td>1</td>\n",
       "      <td>1</td>\n",
       "      <td>0</td>\n",
       "      <td>0</td>\n",
       "      <td>a</td>\n",
       "      <td>a</td>\n",
       "      <td>1650.0</td>\n",
       "      <td>10.0</td>\n",
       "      <td>2000.0</td>\n",
       "      <td>0.0</td>\n",
       "      <td>inf</td>\n",
       "      <td>inf</td>\n",
       "      <td>inf</td>\n",
       "    </tr>\n",
       "    <tr>\n",
       "      <th>619353</th>\n",
       "      <td>1</td>\n",
       "      <td>2013-12-23</td>\n",
       "      <td>13634</td>\n",
       "      <td>1170</td>\n",
       "      <td>1</td>\n",
       "      <td>0</td>\n",
       "      <td>0</td>\n",
       "      <td>1</td>\n",
       "      <td>a</td>\n",
       "      <td>a</td>\n",
       "      <td>1650.0</td>\n",
       "      <td>10.0</td>\n",
       "      <td>2000.0</td>\n",
       "      <td>0.0</td>\n",
       "      <td>inf</td>\n",
       "      <td>inf</td>\n",
       "      <td>inf</td>\n",
       "    </tr>\n",
       "    <tr>\n",
       "      <th>1016293</th>\n",
       "      <td>2</td>\n",
       "      <td>2013-01-01</td>\n",
       "      <td>0</td>\n",
       "      <td>0</td>\n",
       "      <td>0</td>\n",
       "      <td>0</td>\n",
       "      <td>a</td>\n",
       "      <td>1</td>\n",
       "      <td>a</td>\n",
       "      <td>a</td>\n",
       "      <td>1650.0</td>\n",
       "      <td>10.0</td>\n",
       "      <td>2000.0</td>\n",
       "      <td>0.0</td>\n",
       "      <td>inf</td>\n",
       "      <td>inf</td>\n",
       "      <td>inf</td>\n",
       "    </tr>\n",
       "    <tr>\n",
       "      <th>479978</th>\n",
       "      <td>7</td>\n",
       "      <td>2014-04-27</td>\n",
       "      <td>0</td>\n",
       "      <td>0</td>\n",
       "      <td>0</td>\n",
       "      <td>0</td>\n",
       "      <td>0</td>\n",
       "      <td>0</td>\n",
       "      <td>a</td>\n",
       "      <td>a</td>\n",
       "      <td>1650.0</td>\n",
       "      <td>10.0</td>\n",
       "      <td>2000.0</td>\n",
       "      <td>0.0</td>\n",
       "      <td>inf</td>\n",
       "      <td>inf</td>\n",
       "      <td>inf</td>\n",
       "    </tr>\n",
       "    <tr>\n",
       "      <th>369308</th>\n",
       "      <td>1</td>\n",
       "      <td>2014-08-11</td>\n",
       "      <td>6990</td>\n",
       "      <td>552</td>\n",
       "      <td>1</td>\n",
       "      <td>0</td>\n",
       "      <td>0</td>\n",
       "      <td>1</td>\n",
       "      <td>a</td>\n",
       "      <td>a</td>\n",
       "      <td>1650.0</td>\n",
       "      <td>10.0</td>\n",
       "      <td>2000.0</td>\n",
       "      <td>0.0</td>\n",
       "      <td>inf</td>\n",
       "      <td>inf</td>\n",
       "      <td>inf</td>\n",
       "    </tr>\n",
       "    <tr>\n",
       "      <th>...</th>\n",
       "      <td>...</td>\n",
       "      <td>...</td>\n",
       "      <td>...</td>\n",
       "      <td>...</td>\n",
       "      <td>...</td>\n",
       "      <td>...</td>\n",
       "      <td>...</td>\n",
       "      <td>...</td>\n",
       "      <td>...</td>\n",
       "      <td>...</td>\n",
       "      <td>...</td>\n",
       "      <td>...</td>\n",
       "      <td>...</td>\n",
       "      <td>...</td>\n",
       "      <td>...</td>\n",
       "      <td>...</td>\n",
       "      <td>...</td>\n",
       "    </tr>\n",
       "    <tr>\n",
       "      <th>381463</th>\n",
       "      <td>2</td>\n",
       "      <td>2014-07-29</td>\n",
       "      <td>9253</td>\n",
       "      <td>651</td>\n",
       "      <td>1</td>\n",
       "      <td>1</td>\n",
       "      <td>0</td>\n",
       "      <td>1</td>\n",
       "      <td>a</td>\n",
       "      <td>a</td>\n",
       "      <td>1650.0</td>\n",
       "      <td>10.0</td>\n",
       "      <td>2000.0</td>\n",
       "      <td>0.0</td>\n",
       "      <td>inf</td>\n",
       "      <td>inf</td>\n",
       "      <td>inf</td>\n",
       "    </tr>\n",
       "    <tr>\n",
       "      <th>620468</th>\n",
       "      <td>7</td>\n",
       "      <td>2013-12-22</td>\n",
       "      <td>0</td>\n",
       "      <td>0</td>\n",
       "      <td>0</td>\n",
       "      <td>0</td>\n",
       "      <td>0</td>\n",
       "      <td>0</td>\n",
       "      <td>a</td>\n",
       "      <td>a</td>\n",
       "      <td>1650.0</td>\n",
       "      <td>10.0</td>\n",
       "      <td>2000.0</td>\n",
       "      <td>0.0</td>\n",
       "      <td>inf</td>\n",
       "      <td>inf</td>\n",
       "      <td>inf</td>\n",
       "    </tr>\n",
       "    <tr>\n",
       "      <th>711898</th>\n",
       "      <td>2</td>\n",
       "      <td>2013-10-01</td>\n",
       "      <td>6330</td>\n",
       "      <td>544</td>\n",
       "      <td>1</td>\n",
       "      <td>0</td>\n",
       "      <td>0</td>\n",
       "      <td>0</td>\n",
       "      <td>a</td>\n",
       "      <td>a</td>\n",
       "      <td>1650.0</td>\n",
       "      <td>10.0</td>\n",
       "      <td>2000.0</td>\n",
       "      <td>0.0</td>\n",
       "      <td>inf</td>\n",
       "      <td>inf</td>\n",
       "      <td>inf</td>\n",
       "    </tr>\n",
       "    <tr>\n",
       "      <th>202013</th>\n",
       "      <td>6</td>\n",
       "      <td>2015-01-31</td>\n",
       "      <td>8435</td>\n",
       "      <td>693</td>\n",
       "      <td>1</td>\n",
       "      <td>0</td>\n",
       "      <td>0</td>\n",
       "      <td>0</td>\n",
       "      <td>a</td>\n",
       "      <td>a</td>\n",
       "      <td>1650.0</td>\n",
       "      <td>10.0</td>\n",
       "      <td>2000.0</td>\n",
       "      <td>0.0</td>\n",
       "      <td>inf</td>\n",
       "      <td>inf</td>\n",
       "      <td>inf</td>\n",
       "    </tr>\n",
       "    <tr>\n",
       "      <th>231003</th>\n",
       "      <td>1</td>\n",
       "      <td>2015-01-05</td>\n",
       "      <td>12230</td>\n",
       "      <td>834</td>\n",
       "      <td>1</td>\n",
       "      <td>1</td>\n",
       "      <td>0</td>\n",
       "      <td>1</td>\n",
       "      <td>a</td>\n",
       "      <td>a</td>\n",
       "      <td>1650.0</td>\n",
       "      <td>10.0</td>\n",
       "      <td>2000.0</td>\n",
       "      <td>0.0</td>\n",
       "      <td>inf</td>\n",
       "      <td>inf</td>\n",
       "      <td>inf</td>\n",
       "    </tr>\n",
       "  </tbody>\n",
       "</table>\n",
       "<p>100 rows × 17 columns</p>\n",
       "</div>"
      ],
      "text/plain": [
       "         DayOfWeek        Date  Sales  Customers  Open  Promo StateHoliday  \\\n",
       "287028           5  2014-11-07   8865        676     1      1            0   \n",
       "619353           1  2013-12-23  13634       1170     1      0            0   \n",
       "1016293          2  2013-01-01      0          0     0      0            a   \n",
       "479978           7  2014-04-27      0          0     0      0            0   \n",
       "369308           1  2014-08-11   6990        552     1      0            0   \n",
       "...            ...         ...    ...        ...   ...    ...          ...   \n",
       "381463           2  2014-07-29   9253        651     1      1            0   \n",
       "620468           7  2013-12-22      0          0     0      0            0   \n",
       "711898           2  2013-10-01   6330        544     1      0            0   \n",
       "202013           6  2015-01-31   8435        693     1      0            0   \n",
       "231003           1  2015-01-05  12230        834     1      1            0   \n",
       "\n",
       "         SchoolHoliday StoreType Assortment  CompetitionDistance  \\\n",
       "287028               0         a          a               1650.0   \n",
       "619353               1         a          a               1650.0   \n",
       "1016293              1         a          a               1650.0   \n",
       "479978               0         a          a               1650.0   \n",
       "369308               1         a          a               1650.0   \n",
       "...                ...       ...        ...                  ...   \n",
       "381463               1         a          a               1650.0   \n",
       "620468               0         a          a               1650.0   \n",
       "711898               0         a          a               1650.0   \n",
       "202013               0         a          a               1650.0   \n",
       "231003               1         a          a               1650.0   \n",
       "\n",
       "         CompetitionOpenSinceMonth  CompetitionOpenSinceYear  Promo2  \\\n",
       "287028                        10.0                    2000.0     0.0   \n",
       "619353                        10.0                    2000.0     0.0   \n",
       "1016293                       10.0                    2000.0     0.0   \n",
       "479978                        10.0                    2000.0     0.0   \n",
       "369308                        10.0                    2000.0     0.0   \n",
       "...                            ...                       ...     ...   \n",
       "381463                        10.0                    2000.0     0.0   \n",
       "620468                        10.0                    2000.0     0.0   \n",
       "711898                        10.0                    2000.0     0.0   \n",
       "202013                        10.0                    2000.0     0.0   \n",
       "231003                        10.0                    2000.0     0.0   \n",
       "\n",
       "         Promo2SinceWeek  Promo2SinceYear  PromoInterval  \n",
       "287028               inf              inf            inf  \n",
       "619353               inf              inf            inf  \n",
       "1016293              inf              inf            inf  \n",
       "479978               inf              inf            inf  \n",
       "369308               inf              inf            inf  \n",
       "...                  ...              ...            ...  \n",
       "381463               inf              inf            inf  \n",
       "620468               inf              inf            inf  \n",
       "711898               inf              inf            inf  \n",
       "202013               inf              inf            inf  \n",
       "231003               inf              inf            inf  \n",
       "\n",
       "[100 rows x 17 columns]"
      ]
     },
     "execution_count": 1821,
     "metadata": {},
     "output_type": "execute_result"
    }
   ],
   "source": [
    "dataset[10][\"table\"]"
   ]
  },
  {
   "cell_type": "code",
   "execution_count": 1818,
   "metadata": {},
   "outputs": [
    {
     "data": {
      "image/png": "[encoded data removed]",
      "text/plain": [
       "<Figure size 499.5x432 with 1 Axes>"
      ]
     },
     "metadata": {
      "needs_background": "light"
     },
     "output_type": "display_data"
    }
   ],
   "source": [
    "plot_single_table_relative_vectors(tokenized_tables[10],s_vocab=shuffled_vocab)"
   ]
  },
  {
   "cell_type": "code",
   "execution_count": 1820,
   "metadata": {},
   "outputs": [
    {
     "data": {
      "image/png": "[encoded data removed]",
      "text/plain": [
       "<Figure size 499.5x432 with 1 Axes>"
      ]
     },
     "metadata": {
      "needs_background": "light"
     },
     "output_type": "display_data"
    }
   ],
   "source": [
    "plot_single_table_relative_vectors(tokenized_tables[2],s_vocab=shuffled_vocab)"
   ]
  },
  {
   "cell_type": "code",
   "execution_count": 1779,
   "metadata": {},
   "outputs": [],
   "source": []
  },
  {
   "cell_type": "code",
   "execution_count": 1780,
   "metadata": {},
   "outputs": [],
   "source": []
  },
  {
   "cell_type": "code",
   "execution_count": 1787,
   "metadata": {},
   "outputs": [],
   "source": []
  },
  {
   "cell_type": "code",
   "execution_count": 1707,
   "metadata": {},
   "outputs": [
    {
     "data": {
      "image/png": "[encoded data removed]",
      "text/plain": [
       "<Figure size 432x288 with 1 Axes>"
      ]
     },
     "metadata": {
      "needs_background": "light"
     },
     "output_type": "display_data"
    }
   ],
   "source": [
    "if VECTORIZE_TABLES:\n",
    "    vectors_dir=gen_dir(MODEL_UUID,\"vectors\")\n",
    "    vectors_path=os.path.join(vectors_dir,\"table_vectors.pickle\")\n",
    "    vec_list=generate_table_vectors(cell_vectors,tokenized_tables,s_vocab=shuffled_vocab)\n",
    "    pickle.dump(vec_list,open(vectors_path,\"wb\"))\n",
    "else:\n",
    "    vec_list = pickle.load(open(vectors_path,\"rb\"))\n",
    "plot_table_vectors(vec_list,dataset)"
   ]
  },
  {
   "cell_type": "markdown",
   "metadata": {},
   "source": [
    "## 4) Evaluate the Model\n"
   ]
  },
  {
   "cell_type": "code",
   "execution_count": 1708,
   "metadata": {},
   "outputs": [],
   "source": [
    "from sklearn.decomposition import PCA\n",
    "from scipy.spatial.distance import cosine,euclidean\n",
    "from sklearn.metrics import euclidean_distances\n",
    "from sklearn.manifold import MDS"
   ]
  },
  {
   "cell_type": "code",
   "execution_count": 1709,
   "metadata": {},
   "outputs": [],
   "source": [
    "k=5"
   ]
  },
  {
   "cell_type": "code",
   "execution_count": 1710,
   "metadata": {},
   "outputs": [],
   "source": [
    "def count_hits(col,k):\n",
    "    topsim=list(col.sort_values()[0:k].index)\n",
    "    s_label=dataset[topsim[0]][\"label\"]\n",
    "    lab_list=[dataset[i][\"label\"] for i in topsim[1:]]\n",
    "    return len([l for l in lab_list if l==s_label ])\n",
    "\n",
    "def evaluate_model(dataset,vec_list,k=5):\n",
    "    similarities = euclidean_distances(vec_list)\n",
    "    sim=pd.DataFrame(similarities)\n",
    "    a=sim.apply(lambda x:count_hits(x,k),axis=1)\n",
    "    a.sum()\n",
    "    result_score=a.sum()/(len(sim)*k)\n",
    "    return result_score\n",
    "    "
   ]
  },
  {
   "cell_type": "code",
   "execution_count": 1832,
   "metadata": {},
   "outputs": [],
   "source": [
    "if EVALUATE_RESULTS:\n",
    "    results_dir=gen_dir(MODEL_UUID,\"results\")\n",
    "    results_path=os.path.join(results_dir,\"results.pickle\")\n",
    "    result_score=evaluate_model(dataset,vec_list,k=k)\n",
    "    results_dict=CONF.copy()\n",
    "    results_dict[\"score\"]=result_score\n",
    "    results_dict[\"dataset\"]=dataset_path\n",
    "    results_dict[\"model_id\"]=MODEL_UUID\n",
    "    results_dict[\"model_description\"]=MODEL_DESCRIPTION\n",
    "    results_dict[\"topk_size\"]=k\n",
    "    results_dict[\"dataset_size\"]=len(dataset)\n",
    "    pickle.dump(results_dict,open(results_path,\"wb\"))\n",
    "    \n",
    "    "
   ]
  },
  {
   "cell_type": "code",
   "execution_count": 1833,
   "metadata": {},
   "outputs": [
    {
     "data": {
      "text/plain": [
       "{'add_attr': True,\n",
       " 'shuffle_vocab': True,\n",
       " 'add_columns': False,\n",
       " 'vector_size': 50,\n",
       " 'edges_sample': 1.0,\n",
       " 'epoch_num': 10,\n",
       " 'score': 0.708,\n",
       " 'dataset': './datasets/benchmarks/sales_classification.pickle',\n",
       " 'model_id': '60a011217f344169b89d91edc3cb15b1_VGAE',\n",
       " 'model_description': 'VGAE',\n",
       " 'topk_size': 5,\n",
       " 'dataset_size': 50}"
      ]
     },
     "execution_count": 1833,
     "metadata": {},
     "output_type": "execute_result"
    }
   ],
   "source": [
    "results_dict"
   ]
  },
  {
   "cell_type": "code",
   "execution_count": null,
   "metadata": {},
   "outputs": [],
   "source": []
  },
  {
   "cell_type": "code",
   "execution_count": null,
   "metadata": {},
   "outputs": [],
   "source": []
  },
  {
   "cell_type": "code",
   "execution_count": null,
   "metadata": {},
   "outputs": [],
   "source": []
  },
  {
   "cell_type": "code",
   "execution_count": null,
   "metadata": {},
   "outputs": [],
   "source": []
  }
 ],
 "metadata": {
  "kernelspec": {
   "display_name": "table2vec",
   "language": "python",
   "name": "table2vec"
  },
  "language_info": {
   "codemirror_mode": {
    "name": "ipython",
    "version": 3
   },
   "file_extension": ".py",
   "mimetype": "text/x-python",
   "name": "python",
   "nbconvert_exporter": "python",
   "pygments_lexer": "ipython3",
   "version": "3.7.6"
  }
 },
 "nbformat": 4,
 "nbformat_minor": 2
}
