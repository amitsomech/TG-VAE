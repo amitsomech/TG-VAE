{
 "cells": [
  {
   "cell_type": "code",
   "execution_count": 1,
   "metadata": {},
   "outputs": [],
   "source": [
    "import os\n",
    "import numpy as np\n",
    "import pandas as pd\n",
    "import pickle\n",
    "%matplotlib inline\n"
   ]
  },
  {
   "cell_type": "code",
   "execution_count": 2,
   "metadata": {},
   "outputs": [],
   "source": [
    "os.chdir(\"..\")"
   ]
  },
  {
   "cell_type": "code",
   "execution_count": 3,
   "metadata": {},
   "outputs": [],
   "source": [
    "import networks.node2vec\n",
    "import networks.vgae"
   ]
  },
  {
   "cell_type": "code",
   "execution_count": 4,
   "metadata": {},
   "outputs": [],
   "source": [
    "benchmarks = [\"airlines50\",\"airports100\",\"rossman50\",\"rossman200\"]"
   ]
  },
  {
   "cell_type": "code",
   "execution_count": 13,
   "metadata": {},
   "outputs": [],
   "source": [
    "CONF = {\n",
    "    \"add_attr\":True,\n",
    "    \"shuffle_vocab\": True,\n",
    "    \"add_columns\":False,\n",
    "    \"vector_size\":50,\n",
    "    \"row_edges_sample\":1.0,\n",
    "    \"column_edges_sample\":0.1,\n",
    "    \"epoch_num\":50\n",
    "}"
   ]
  },
  {
   "cell_type": "code",
   "execution_count": 6,
   "metadata": {},
   "outputs": [],
   "source": [
    "CONF[\"n2v_walk_length\"] = 20\n",
    "CONF[\"n2v_context_size\"] = 10\n",
    "CONF[\"n2v_walks_per_node\"] = 10"
   ]
  },
  {
   "cell_type": "code",
   "execution_count": 14,
   "metadata": {},
   "outputs": [],
   "source": [
    "LABEL=\"VGAE_50\""
   ]
  },
  {
   "cell_type": "code",
   "execution_count": 15,
   "metadata": {},
   "outputs": [],
   "source": [
    "res_list=[]\n",
    "vectors=[]"
   ]
  },
  {
   "cell_type": "code",
   "execution_count": null,
   "metadata": {},
   "outputs": [
    {
     "name": "stdout",
     "output_type": "stream",
     "text": [
      "airlines50\n",
      "0 (tensor(5.7506, grad_fn=<AddBackward0>), tensor(0.3297, grad_fn=<MulBackward0>), tensor(6.0802, grad_fn=<AddBackward0>))\n",
      "1 (tensor(4.5253, grad_fn=<AddBackward0>), tensor(0.6549, grad_fn=<MulBackward0>), tensor(5.1802, grad_fn=<AddBackward0>))\n",
      "2 (tensor(3.9194, grad_fn=<AddBackward0>), tensor(0.5710, grad_fn=<MulBackward0>), tensor(4.4905, grad_fn=<AddBackward0>))\n",
      "3 (tensor(3.5696, grad_fn=<AddBackward0>), tensor(0.6158, grad_fn=<MulBackward0>), tensor(4.1854, grad_fn=<AddBackward0>))\n",
      "4 (tensor(3.2860, grad_fn=<AddBackward0>), tensor(0.7867, grad_fn=<MulBackward0>), tensor(4.0727, grad_fn=<AddBackward0>))\n",
      "5 (tensor(3.0713, grad_fn=<AddBackward0>), tensor(1.0056, grad_fn=<MulBackward0>), tensor(4.0768, grad_fn=<AddBackward0>))\n",
      "6 (tensor(2.9222, grad_fn=<AddBackward0>), tensor(1.2002, grad_fn=<MulBackward0>), tensor(4.1223, grad_fn=<AddBackward0>))\n",
      "7 (tensor(2.8528, grad_fn=<AddBackward0>), tensor(1.3087, grad_fn=<MulBackward0>), tensor(4.1614, grad_fn=<AddBackward0>))\n",
      "8 (tensor(2.8419, grad_fn=<AddBackward0>), tensor(1.3249, grad_fn=<MulBackward0>), tensor(4.1668, grad_fn=<AddBackward0>))\n",
      "9 (tensor(2.8812, grad_fn=<AddBackward0>), tensor(1.2686, grad_fn=<MulBackward0>), tensor(4.1498, grad_fn=<AddBackward0>))\n",
      "10 (tensor(2.9519, grad_fn=<AddBackward0>), tensor(1.1756, grad_fn=<MulBackward0>), tensor(4.1275, grad_fn=<AddBackward0>))\n",
      "11 (tensor(3.0423, grad_fn=<AddBackward0>), tensor(1.0710, grad_fn=<MulBackward0>), tensor(4.1133, grad_fn=<AddBackward0>))\n",
      "12 (tensor(3.1066, grad_fn=<AddBackward0>), tensor(0.9705, grad_fn=<MulBackward0>), tensor(4.0771, grad_fn=<AddBackward0>))\n",
      "13 (tensor(3.1911, grad_fn=<AddBackward0>), tensor(0.8836, grad_fn=<MulBackward0>), tensor(4.0747, grad_fn=<AddBackward0>))\n",
      "14 (tensor(3.2551, grad_fn=<AddBackward0>), tensor(0.8165, grad_fn=<MulBackward0>), tensor(4.0716, grad_fn=<AddBackward0>))\n",
      "15 (tensor(3.2872, grad_fn=<AddBackward0>), tensor(0.7728, grad_fn=<MulBackward0>), tensor(4.0600, grad_fn=<AddBackward0>))\n",
      "16 (tensor(3.3142, grad_fn=<AddBackward0>), tensor(0.7522, grad_fn=<MulBackward0>), tensor(4.0664, grad_fn=<AddBackward0>))\n",
      "17 (tensor(3.3068, grad_fn=<AddBackward0>), tensor(0.7525, grad_fn=<MulBackward0>), tensor(4.0593, grad_fn=<AddBackward0>))\n",
      "18 (tensor(3.2871, grad_fn=<AddBackward0>), tensor(0.7694, grad_fn=<MulBackward0>), tensor(4.0565, grad_fn=<AddBackward0>))\n",
      "19 (tensor(3.2434, grad_fn=<AddBackward0>), tensor(0.7983, grad_fn=<MulBackward0>), tensor(4.0417, grad_fn=<AddBackward0>))\n",
      "20 (tensor(3.2083, grad_fn=<AddBackward0>), tensor(0.8335, grad_fn=<MulBackward0>), tensor(4.0418, grad_fn=<AddBackward0>))\n",
      "21 (tensor(3.1584, grad_fn=<AddBackward0>), tensor(0.8679, grad_fn=<MulBackward0>), tensor(4.0263, grad_fn=<AddBackward0>))\n",
      "22 (tensor(3.1423, grad_fn=<AddBackward0>), tensor(0.8951, grad_fn=<MulBackward0>), tensor(4.0374, grad_fn=<AddBackward0>))\n",
      "23 (tensor(3.1236, grad_fn=<AddBackward0>), tensor(0.9108, grad_fn=<MulBackward0>), tensor(4.0344, grad_fn=<AddBackward0>))\n",
      "24 (tensor(3.1203, grad_fn=<AddBackward0>), tensor(0.9142, grad_fn=<MulBackward0>), tensor(4.0345, grad_fn=<AddBackward0>))\n",
      "25 (tensor(3.1106, grad_fn=<AddBackward0>), tensor(0.9082, grad_fn=<MulBackward0>), tensor(4.0188, grad_fn=<AddBackward0>))\n",
      "26 (tensor(3.1234, grad_fn=<AddBackward0>), tensor(0.8963, grad_fn=<MulBackward0>), tensor(4.0197, grad_fn=<AddBackward0>))\n",
      "27 (tensor(3.1382, grad_fn=<AddBackward0>), tensor(0.8830, grad_fn=<MulBackward0>), tensor(4.0213, grad_fn=<AddBackward0>))\n",
      "28 (tensor(3.1342, grad_fn=<AddBackward0>), tensor(0.8712, grad_fn=<MulBackward0>), tensor(4.0054, grad_fn=<AddBackward0>))\n",
      "29 (tensor(3.1473, grad_fn=<AddBackward0>), tensor(0.8629, grad_fn=<MulBackward0>), tensor(4.0102, grad_fn=<AddBackward0>))\n",
      "30 (tensor(3.1599, grad_fn=<AddBackward0>), tensor(0.8587, grad_fn=<MulBackward0>), tensor(4.0186, grad_fn=<AddBackward0>))\n",
      "31 (tensor(3.1459, grad_fn=<AddBackward0>), tensor(0.8608, grad_fn=<MulBackward0>), tensor(4.0067, grad_fn=<AddBackward0>))\n",
      "32 (tensor(3.1440, grad_fn=<AddBackward0>), tensor(0.8671, grad_fn=<MulBackward0>), tensor(4.0111, grad_fn=<AddBackward0>))\n",
      "33 (tensor(3.1319, grad_fn=<AddBackward0>), tensor(0.8751, grad_fn=<MulBackward0>), tensor(4.0070, grad_fn=<AddBackward0>))\n",
      "34 (tensor(3.1314, grad_fn=<AddBackward0>), tensor(0.8843, grad_fn=<MulBackward0>), tensor(4.0157, grad_fn=<AddBackward0>))\n",
      "35 (tensor(3.1102, grad_fn=<AddBackward0>), tensor(0.8879, grad_fn=<MulBackward0>), tensor(3.9981, grad_fn=<AddBackward0>))\n",
      "36 (tensor(3.1224, grad_fn=<AddBackward0>), tensor(0.8853, grad_fn=<MulBackward0>), tensor(4.0077, grad_fn=<AddBackward0>))\n",
      "37 (tensor(3.1356, grad_fn=<AddBackward0>), tensor(0.8776, grad_fn=<MulBackward0>), tensor(4.0132, grad_fn=<AddBackward0>))\n",
      "38 (tensor(3.1377, grad_fn=<AddBackward0>), tensor(0.8668, grad_fn=<MulBackward0>), tensor(4.0045, grad_fn=<AddBackward0>))\n",
      "39 (tensor(3.1414, grad_fn=<AddBackward0>), tensor(0.8553, grad_fn=<MulBackward0>), tensor(3.9968, grad_fn=<AddBackward0>))\n",
      "40 (tensor(3.1482, grad_fn=<AddBackward0>), tensor(0.8464, grad_fn=<MulBackward0>), tensor(3.9946, grad_fn=<AddBackward0>))\n",
      "41 (tensor(3.1616, grad_fn=<AddBackward0>), tensor(0.8433, grad_fn=<MulBackward0>), tensor(4.0050, grad_fn=<AddBackward0>))\n",
      "42 (tensor(3.1403, grad_fn=<AddBackward0>), tensor(0.8477, grad_fn=<MulBackward0>), tensor(3.9880, grad_fn=<AddBackward0>))\n",
      "43 (tensor(3.1305, grad_fn=<AddBackward0>), tensor(0.8586, grad_fn=<MulBackward0>), tensor(3.9891, grad_fn=<AddBackward0>))\n",
      "44 (tensor(3.1180, grad_fn=<AddBackward0>), tensor(0.8702, grad_fn=<MulBackward0>), tensor(3.9882, grad_fn=<AddBackward0>))\n",
      "45 (tensor(3.1037, grad_fn=<AddBackward0>), tensor(0.8796, grad_fn=<MulBackward0>), tensor(3.9832, grad_fn=<AddBackward0>))\n",
      "46 (tensor(3.1008, grad_fn=<AddBackward0>), tensor(0.8856, grad_fn=<MulBackward0>), tensor(3.9863, grad_fn=<AddBackward0>))\n",
      "47 (tensor(3.1225, grad_fn=<AddBackward0>), tensor(0.8860, grad_fn=<MulBackward0>), tensor(4.0085, grad_fn=<AddBackward0>))\n",
      "48 (tensor(3.1019, grad_fn=<AddBackward0>), tensor(0.8840, grad_fn=<MulBackward0>), tensor(3.9858, grad_fn=<AddBackward0>))\n",
      "49 (tensor(3.1072, grad_fn=<AddBackward0>), tensor(0.8785, grad_fn=<MulBackward0>), tensor(3.9857, grad_fn=<AddBackward0>))\n",
      "result: 0.31\n",
      "airports100\n",
      "0 (tensor(6.2547, grad_fn=<AddBackward0>), tensor(0.2150, grad_fn=<MulBackward0>), tensor(6.4697, grad_fn=<AddBackward0>))\n",
      "1 (tensor(4.9868, grad_fn=<AddBackward0>), tensor(0.3693, grad_fn=<MulBackward0>), tensor(5.3561, grad_fn=<AddBackward0>))\n",
      "2 (tensor(4.2823, grad_fn=<AddBackward0>), tensor(0.5430, grad_fn=<MulBackward0>), tensor(4.8254, grad_fn=<AddBackward0>))\n",
      "3 (tensor(3.8203, grad_fn=<AddBackward0>), tensor(0.6073, grad_fn=<MulBackward0>), tensor(4.4276, grad_fn=<AddBackward0>))\n",
      "4 (tensor(3.4902, grad_fn=<AddBackward0>), tensor(0.6852, grad_fn=<MulBackward0>), tensor(4.1754, grad_fn=<AddBackward0>))\n",
      "5 (tensor(3.2307, grad_fn=<AddBackward0>), tensor(0.8257, grad_fn=<MulBackward0>), tensor(4.0564, grad_fn=<AddBackward0>))\n",
      "6 (tensor(3.0461, grad_fn=<AddBackward0>), tensor(1.0032, grad_fn=<MulBackward0>), tensor(4.0493, grad_fn=<AddBackward0>))\n",
      "7 (tensor(2.9342, grad_fn=<AddBackward0>), tensor(1.1620, grad_fn=<MulBackward0>), tensor(4.0962, grad_fn=<AddBackward0>))\n",
      "8 (tensor(2.8667, grad_fn=<AddBackward0>), tensor(1.2527, grad_fn=<MulBackward0>), tensor(4.1194, grad_fn=<AddBackward0>))\n",
      "9 (tensor(2.8687, grad_fn=<AddBackward0>), tensor(1.2684, grad_fn=<MulBackward0>), tensor(4.1371, grad_fn=<AddBackward0>))\n",
      "10 (tensor(2.8946, grad_fn=<AddBackward0>), tensor(1.2233, grad_fn=<MulBackward0>), tensor(4.1178, grad_fn=<AddBackward0>))\n",
      "11 (tensor(2.9601, grad_fn=<AddBackward0>), tensor(1.1427, grad_fn=<MulBackward0>), tensor(4.1027, grad_fn=<AddBackward0>))\n",
      "12 (tensor(3.0286, grad_fn=<AddBackward0>), tensor(1.0499, grad_fn=<MulBackward0>), tensor(4.0784, grad_fn=<AddBackward0>))\n",
      "13 (tensor(3.1061, grad_fn=<AddBackward0>), tensor(0.9619, grad_fn=<MulBackward0>), tensor(4.0679, grad_fn=<AddBackward0>))\n",
      "14 (tensor(3.1587, grad_fn=<AddBackward0>), tensor(0.8896, grad_fn=<MulBackward0>), tensor(4.0484, grad_fn=<AddBackward0>))\n",
      "15 (tensor(3.2227, grad_fn=<AddBackward0>), tensor(0.8395, grad_fn=<MulBackward0>), tensor(4.0622, grad_fn=<AddBackward0>))\n"
     ]
    },
    {
     "name": "stdout",
     "output_type": "stream",
     "text": [
      "16 (tensor(3.2365, grad_fn=<AddBackward0>), tensor(0.8138, grad_fn=<MulBackward0>), tensor(4.0503, grad_fn=<AddBackward0>))\n",
      "17 (tensor(3.2299, grad_fn=<AddBackward0>), tensor(0.8108, grad_fn=<MulBackward0>), tensor(4.0407, grad_fn=<AddBackward0>))\n",
      "18 (tensor(3.2128, grad_fn=<AddBackward0>), tensor(0.8277, grad_fn=<MulBackward0>), tensor(4.0405, grad_fn=<AddBackward0>))\n",
      "19 (tensor(3.1799, grad_fn=<AddBackward0>), tensor(0.8527, grad_fn=<MulBackward0>), tensor(4.0326, grad_fn=<AddBackward0>))\n",
      "20 (tensor(3.1499, grad_fn=<AddBackward0>), tensor(0.8790, grad_fn=<MulBackward0>), tensor(4.0289, grad_fn=<AddBackward0>))\n",
      "21 (tensor(3.1177, grad_fn=<AddBackward0>), tensor(0.8986, grad_fn=<MulBackward0>), tensor(4.0163, grad_fn=<AddBackward0>))\n",
      "22 (tensor(3.1176, grad_fn=<AddBackward0>), tensor(0.9087, grad_fn=<MulBackward0>), tensor(4.0263, grad_fn=<AddBackward0>))\n",
      "23 (tensor(3.1003, grad_fn=<AddBackward0>), tensor(0.9111, grad_fn=<MulBackward0>), tensor(4.0114, grad_fn=<AddBackward0>))\n",
      "24 (tensor(3.1099, grad_fn=<AddBackward0>), tensor(0.9082, grad_fn=<MulBackward0>), tensor(4.0182, grad_fn=<AddBackward0>))\n",
      "25 (tensor(3.1042, grad_fn=<AddBackward0>), tensor(0.9063, grad_fn=<MulBackward0>), tensor(4.0105, grad_fn=<AddBackward0>))\n",
      "26 (tensor(3.0989, grad_fn=<AddBackward0>), tensor(0.9079, grad_fn=<MulBackward0>), tensor(4.0068, grad_fn=<AddBackward0>))\n",
      "27 (tensor(3.0934, grad_fn=<AddBackward0>), tensor(0.9118, grad_fn=<MulBackward0>), tensor(4.0053, grad_fn=<AddBackward0>))\n",
      "28 (tensor(3.0857, grad_fn=<AddBackward0>), tensor(0.9191, grad_fn=<MulBackward0>), tensor(4.0047, grad_fn=<AddBackward0>))\n",
      "29 (tensor(3.0672, grad_fn=<AddBackward0>), tensor(0.9278, grad_fn=<MulBackward0>), tensor(3.9950, grad_fn=<AddBackward0>))\n",
      "30 (tensor(3.0620, grad_fn=<AddBackward0>), tensor(0.9356, grad_fn=<MulBackward0>), tensor(3.9976, grad_fn=<AddBackward0>))\n",
      "31 (tensor(3.0550, grad_fn=<AddBackward0>), tensor(0.9391, grad_fn=<MulBackward0>), tensor(3.9941, grad_fn=<AddBackward0>))\n",
      "32 (tensor(3.0598, grad_fn=<AddBackward0>), tensor(0.9378, grad_fn=<MulBackward0>), tensor(3.9976, grad_fn=<AddBackward0>))\n",
      "33 (tensor(3.0582, grad_fn=<AddBackward0>), tensor(0.9300, grad_fn=<MulBackward0>), tensor(3.9882, grad_fn=<AddBackward0>))\n"
     ]
    }
   ],
   "source": [
    "for b in benchmarks:\n",
    "    print(b)\n",
    "    dataset_path=f\"./datasets/benchmarks/{b}.pickle\"\n",
    "    dataset= pickle.load(open(dataset_path,\"rb\"))\n",
    "    cell_vectors,vec_list,losses,result_score = networks.vgae.run_model(dataset,CONF)\n",
    "    res_dict=CONF.copy()\n",
    "    {\"benchmark\":b,\"result\":result_score,\"losses\":losses}\n",
    "    res_list.append(res_dict)\n",
    "    vectors.append((cell_vectors,vec_list))\n",
    "    print(\"result:\",result_score)\n",
    "    "
   ]
  },
  {
   "cell_type": "code",
   "execution_count": 12,
   "metadata": {},
   "outputs": [],
   "source": [
    "a=open(f\"./results/{LABEL}.pickle\",\"wb\")\n",
    "pickle.dump((vectors,res_list),a)\n",
    "a.close()"
   ]
  },
  {
   "cell_type": "code",
   "execution_count": null,
   "metadata": {},
   "outputs": [],
   "source": []
  }
 ],
 "metadata": {
  "kernelspec": {
   "display_name": "table2vec",
   "language": "python",
   "name": "table2vec"
  },
  "language_info": {
   "codemirror_mode": {
    "name": "ipython",
    "version": 3
   },
   "file_extension": ".py",
   "mimetype": "text/x-python",
   "name": "python",
   "nbconvert_exporter": "python",
   "pygments_lexer": "ipython3",
   "version": "3.7.6"
  }
 },
 "nbformat": 4,
 "nbformat_minor": 2
}
