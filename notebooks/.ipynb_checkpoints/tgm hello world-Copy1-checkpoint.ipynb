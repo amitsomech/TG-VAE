{
 "cells": [
  {
   "cell_type": "code",
   "execution_count": null,
   "metadata": {},
   "outputs": [],
   "source": [
    "%matplotlib inline"
   ]
  },
  {
   "cell_type": "code",
   "execution_count": 1,
   "metadata": {},
   "outputs": [],
   "source": [
    "import os\n",
    "import torch\n",
    "import numpy as np\n",
    "from torch.utils.data import DataLoader\n",
    "import matplotlib.pyplot as plt\n",
    "from sklearn.manifold import TSNE\n",
    "from torch_geometric.datasets import Planetoid\n",
    "from torch_geometric.nn import Node2Vec"
   ]
  },
  {
   "cell_type": "code",
   "execution_count": 2,
   "metadata": {},
   "outputs": [],
   "source": [
    "from torch_geometric.data import Data"
   ]
  },
  {
   "cell_type": "code",
   "execution_count": 3,
   "metadata": {},
   "outputs": [],
   "source": [
    "os.chdir(\"..\")"
   ]
  },
  {
   "cell_type": "code",
   "execution_count": 23,
   "metadata": {},
   "outputs": [],
   "source": [
    "\n",
    "dataset = 'Cora'\n",
    "path = os.path.join(\"./datasets/\",dataset)\n",
    "dataset = Planetoid(path, dataset)\n",
    "data = dataset[0]\n",
    "loader = DataLoader(torch.arange(data.num_nodes), batch_size=128, shuffle=True)\n",
    "\n",
    "device = 'cuda' if torch.cuda.is_available() else 'cpu'\n"
   ]
  },
  {
   "cell_type": "code",
   "execution_count": 24,
   "metadata": {},
   "outputs": [],
   "source": [
    "#edge_index = torch.tensor([[0, 1, 1, 2],\n",
    "#                           [1, 0, 2, 1]], dtype=torch.long)\n",
    "#x = torch.tensor([[-1], [0], [1]], dtype=torch.float)\n",
    "#\n",
    "#data = Data(x=x, edge_index=edge_index)"
   ]
  },
  {
   "cell_type": "code",
   "execution_count": 33,
   "metadata": {},
   "outputs": [],
   "source": [
    "x=dataset.shuffle(return_perm=True)"
   ]
  },
  {
   "cell_type": "code",
   "execution_count": 8,
   "metadata": {},
   "outputs": [
    {
     "data": {
      "text/plain": [
       "<torch._C.Generator at 0x7ff398bfecf0>"
      ]
     },
     "execution_count": 8,
     "metadata": {},
     "output_type": "execute_result"
    }
   ],
   "source": [
    "import os.path as osp\n",
    "\n",
    "import argparse\n",
    "import torch\n",
    "import torch.nn.functional as F\n",
    "from torch_geometric.datasets import Planetoid\n",
    "import torch_geometric.transforms as T\n",
    "from torch_geometric.nn import GCNConv, GAE, VGAE\n",
    "from torch_geometric.utils import train_test_split_edges\n",
    "\n",
    "torch.manual_seed(12345)\n",
    "\n"
   ]
  },
  {
   "cell_type": "code",
   "execution_count": 10,
   "metadata": {},
   "outputs": [],
   "source": [
    "class Encoder(torch.nn.Module):\n",
    "    def __init__(self, in_channels, out_channels):\n",
    "        super(Encoder, self).__init__()\n",
    "        self.conv1 = GCNConv(in_channels, 2 * out_channels, cached=True)\n",
    "        self.conv2 = GCNConv(2 * out_channels, out_channels, cached=True)\n",
    "\n",
    "    def forward(self, x, edge_index):\n",
    "        x = F.relu(self.conv1(x, edge_index))\n",
    "        return self.conv2(x, edge_index)\n",
    "\n",
    "\n",
    "\n",
    "\n",
    "\n",
    "channels = 16\n",
    "dev = torch.device('cuda' if torch.cuda.is_available() else 'cpu')\n",
    "model = GAE(Encoder(data.num_features, channels)).to(dev)\n",
    "data.train_mask = data.val_mask = data.test_mask = data.y = None\n",
    "data = train_test_split_edges(data)\n",
    "x, train_pos_edge_index = data.x.to(dev), data.train_pos_edge_index.to(dev)\n",
    "optimizer = torch.optim.Adam(model.parameters(), lr=0.01)\n",
    "\n",
    "\n"
   ]
  },
  {
   "cell_type": "code",
   "execution_count": 11,
   "metadata": {},
   "outputs": [],
   "source": [
    "def train():\n",
    "    model.train()\n",
    "    optimizer.zero_grad()\n",
    "    z = model.encode(x, train_pos_edge_index)\n",
    "    loss = model.recon_loss(z, train_pos_edge_index)\n",
    "    loss.backward()\n",
    "    optimizer.step()\n",
    "\n",
    "\n",
    "def test(pos_edge_index, neg_edge_index):\n",
    "    model.eval()\n",
    "    with torch.no_grad():\n",
    "        z = model.encode(x, train_pos_edge_index)\n",
    "    return model.test(z, pos_edge_index, neg_edge_index)\n"
   ]
  },
  {
   "cell_type": "code",
   "execution_count": 13,
   "metadata": {},
   "outputs": [
    {
     "name": "stdout",
     "output_type": "stream",
     "text": [
      "Epoch: 001, AUC: 0.8317, AP: 0.8256\n",
      "Epoch: 002, AUC: 0.8344, AP: 0.8285\n",
      "Epoch: 003, AUC: 0.8381, AP: 0.8317\n",
      "Epoch: 004, AUC: 0.8416, AP: 0.8344\n",
      "Epoch: 005, AUC: 0.8448, AP: 0.8367\n",
      "Epoch: 006, AUC: 0.8476, AP: 0.8387\n",
      "Epoch: 007, AUC: 0.8501, AP: 0.8411\n",
      "Epoch: 008, AUC: 0.8522, AP: 0.8432\n",
      "Epoch: 009, AUC: 0.8540, AP: 0.8453\n",
      "Epoch: 010, AUC: 0.8560, AP: 0.8474\n",
      "Epoch: 011, AUC: 0.8575, AP: 0.8490\n",
      "Epoch: 012, AUC: 0.8595, AP: 0.8512\n",
      "Epoch: 013, AUC: 0.8611, AP: 0.8528\n",
      "Epoch: 014, AUC: 0.8629, AP: 0.8550\n",
      "Epoch: 015, AUC: 0.8641, AP: 0.8571\n",
      "Epoch: 016, AUC: 0.8651, AP: 0.8591\n",
      "Epoch: 017, AUC: 0.8661, AP: 0.8606\n",
      "Epoch: 018, AUC: 0.8666, AP: 0.8619\n",
      "Epoch: 019, AUC: 0.8674, AP: 0.8636\n",
      "Epoch: 020, AUC: 0.8680, AP: 0.8647\n",
      "Epoch: 021, AUC: 0.8686, AP: 0.8657\n",
      "Epoch: 022, AUC: 0.8695, AP: 0.8674\n",
      "Epoch: 023, AUC: 0.8710, AP: 0.8694\n",
      "Epoch: 024, AUC: 0.8727, AP: 0.8715\n",
      "Epoch: 025, AUC: 0.8740, AP: 0.8735\n",
      "Epoch: 026, AUC: 0.8753, AP: 0.8753\n",
      "Epoch: 027, AUC: 0.8762, AP: 0.8764\n",
      "Epoch: 028, AUC: 0.8772, AP: 0.8782\n",
      "Epoch: 029, AUC: 0.8783, AP: 0.8795\n",
      "Epoch: 030, AUC: 0.8794, AP: 0.8808\n",
      "Epoch: 031, AUC: 0.8804, AP: 0.8818\n",
      "Epoch: 032, AUC: 0.8814, AP: 0.8826\n",
      "Epoch: 033, AUC: 0.8818, AP: 0.8826\n",
      "Epoch: 034, AUC: 0.8820, AP: 0.8829\n",
      "Epoch: 035, AUC: 0.8823, AP: 0.8837\n",
      "Epoch: 036, AUC: 0.8824, AP: 0.8841\n",
      "Epoch: 037, AUC: 0.8829, AP: 0.8847\n",
      "Epoch: 038, AUC: 0.8831, AP: 0.8851\n",
      "Epoch: 039, AUC: 0.8829, AP: 0.8849\n",
      "Epoch: 040, AUC: 0.8828, AP: 0.8848\n",
      "Epoch: 041, AUC: 0.8825, AP: 0.8841\n",
      "Epoch: 042, AUC: 0.8823, AP: 0.8835\n",
      "Epoch: 043, AUC: 0.8820, AP: 0.8833\n",
      "Epoch: 044, AUC: 0.8818, AP: 0.8831\n",
      "Epoch: 045, AUC: 0.8812, AP: 0.8828\n",
      "Epoch: 046, AUC: 0.8799, AP: 0.8818\n",
      "Epoch: 047, AUC: 0.8788, AP: 0.8804\n",
      "Epoch: 048, AUC: 0.8786, AP: 0.8799\n",
      "Epoch: 049, AUC: 0.8787, AP: 0.8793\n",
      "Epoch: 050, AUC: 0.8794, AP: 0.8797\n",
      "Epoch: 051, AUC: 0.8793, AP: 0.8795\n",
      "Epoch: 052, AUC: 0.8789, AP: 0.8789\n",
      "Epoch: 053, AUC: 0.8777, AP: 0.8782\n",
      "Epoch: 054, AUC: 0.8769, AP: 0.8773\n",
      "Epoch: 055, AUC: 0.8768, AP: 0.8768\n",
      "Epoch: 056, AUC: 0.8768, AP: 0.8764\n",
      "Epoch: 057, AUC: 0.8771, AP: 0.8763\n",
      "Epoch: 058, AUC: 0.8770, AP: 0.8759\n",
      "Epoch: 059, AUC: 0.8769, AP: 0.8758\n",
      "Epoch: 060, AUC: 0.8767, AP: 0.8757\n",
      "Epoch: 061, AUC: 0.8769, AP: 0.8761\n",
      "Epoch: 062, AUC: 0.8772, AP: 0.8763\n",
      "Epoch: 063, AUC: 0.8773, AP: 0.8765\n",
      "Epoch: 064, AUC: 0.8776, AP: 0.8767\n",
      "Epoch: 065, AUC: 0.8778, AP: 0.8771\n",
      "Epoch: 066, AUC: 0.8780, AP: 0.8775\n",
      "Epoch: 067, AUC: 0.8783, AP: 0.8782\n",
      "Epoch: 068, AUC: 0.8782, AP: 0.8780\n",
      "Epoch: 069, AUC: 0.8775, AP: 0.8770\n",
      "Epoch: 070, AUC: 0.8775, AP: 0.8768\n",
      "Epoch: 071, AUC: 0.8782, AP: 0.8779\n",
      "Epoch: 072, AUC: 0.8794, AP: 0.8795\n",
      "Epoch: 073, AUC: 0.8803, AP: 0.8809\n",
      "Epoch: 074, AUC: 0.8810, AP: 0.8817\n",
      "Epoch: 075, AUC: 0.8810, AP: 0.8817\n",
      "Epoch: 076, AUC: 0.8803, AP: 0.8809\n",
      "Epoch: 077, AUC: 0.8797, AP: 0.8803\n",
      "Epoch: 078, AUC: 0.8802, AP: 0.8810\n",
      "Epoch: 079, AUC: 0.8809, AP: 0.8819\n",
      "Epoch: 080, AUC: 0.8813, AP: 0.8826\n",
      "Epoch: 081, AUC: 0.8810, AP: 0.8826\n",
      "Epoch: 082, AUC: 0.8804, AP: 0.8826\n",
      "Epoch: 083, AUC: 0.8793, AP: 0.8816\n",
      "Epoch: 084, AUC: 0.8786, AP: 0.8812\n",
      "Epoch: 085, AUC: 0.8784, AP: 0.8809\n",
      "Epoch: 086, AUC: 0.8786, AP: 0.8814\n",
      "Epoch: 087, AUC: 0.8786, AP: 0.8821\n",
      "Epoch: 088, AUC: 0.8784, AP: 0.8822\n",
      "Epoch: 089, AUC: 0.8780, AP: 0.8819\n",
      "Epoch: 090, AUC: 0.8765, AP: 0.8808\n",
      "Epoch: 091, AUC: 0.8749, AP: 0.8804\n",
      "Epoch: 092, AUC: 0.8744, AP: 0.8805\n",
      "Epoch: 093, AUC: 0.8748, AP: 0.8816\n",
      "Epoch: 094, AUC: 0.8755, AP: 0.8825\n",
      "Epoch: 095, AUC: 0.8757, AP: 0.8827\n",
      "Epoch: 096, AUC: 0.8757, AP: 0.8822\n",
      "Epoch: 097, AUC: 0.8750, AP: 0.8812\n",
      "Epoch: 098, AUC: 0.8750, AP: 0.8817\n",
      "Epoch: 099, AUC: 0.8759, AP: 0.8832\n"
     ]
    }
   ],
   "source": [
    "for epoch in range(1, 100):\n",
    "    train()\n",
    "    auc, ap = test(data.test_pos_edge_index, data.test_neg_edge_index)\n",
    "    print('Epoch: {:03d}, AUC: {:.4f}, AP: {:.4f}'.format(epoch, auc, ap))"
   ]
  },
  {
   "cell_type": "code",
   "execution_count": 15,
   "metadata": {},
   "outputs": [],
   "source": [
    "model.eval()\n",
    "with torch.no_grad():\n",
    "    z = model.encode(x, train_pos_edge_index)\n",
    "    cell_vectors = z.cpu().numpy()\n"
   ]
  },
  {
   "cell_type": "code",
   "execution_count": 17,
   "metadata": {},
   "outputs": [],
   "source": [
    "import seaborn as sns"
   ]
  },
  {
   "cell_type": "code",
   "execution_count": 18,
   "metadata": {},
   "outputs": [
    {
     "data": {
      "text/plain": [
       "<matplotlib.axes._subplots.AxesSubplot at 0x7ff39c2c7890>"
      ]
     },
     "execution_count": 18,
     "metadata": {},
     "output_type": "execute_result"
    },
    {
     "data": {
      "image/png": "[encoded data removed]",
      "text/plain": [
       "<Figure size 432x288 with 1 Axes>"
      ]
     },
     "metadata": {
      "needs_background": "light"
     },
     "output_type": "display_data"
    }
   ],
   "source": [
    "idx = np.random.randint(len(cell_vectors), size=1000)\n",
    "sample = cell_vectors[idx,:]\n",
    "vals = TSNE(n_components=2).fit_transform(sample)\n",
    "sns.scatterplot(x=vals[:,0],y=vals[:,1])"
   ]
  },
  {
   "cell_type": "code",
   "execution_count": null,
   "metadata": {},
   "outputs": [],
   "source": []
  }
 ],
 "metadata": {
  "kernelspec": {
   "display_name": "table2vec",
   "language": "python",
   "name": "table2vec"
  },
  "language_info": {
   "codemirror_mode": {
    "name": "ipython",
    "version": 3
   },
   "file_extension": ".py",
   "mimetype": "text/x-python",
   "name": "python",
   "nbconvert_exporter": "python",
   "pygments_lexer": "ipython3",
   "version": "3.7.6"
  }
 },
 "nbformat": 4,
 "nbformat_minor": 2
}
