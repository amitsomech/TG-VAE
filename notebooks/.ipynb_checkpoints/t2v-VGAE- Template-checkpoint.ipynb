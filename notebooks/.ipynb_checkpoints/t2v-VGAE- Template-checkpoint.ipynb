{
 "cells": [
  {
   "cell_type": "code",
   "execution_count": 1,
   "metadata": {},
   "outputs": [],
   "source": [
    "import pickle\n",
    "import pandas as pd\n",
    "import os\n",
    "import numpy as np\n",
    "import matplotlib.pyplot as plt\n",
    "from sklearn.manifold import TSNE\n",
    "from torch_geometric.datasets import Planetoid\n",
    "from torch_geometric.nn import Node2Vec\n",
    "from torch_geometric.nn import GCNConv, GAE, VGAE\n",
    "from torch_geometric.data import Data\n",
    "import seaborn as sns\n"
   ]
  },
  {
   "cell_type": "code",
   "execution_count": 2,
   "metadata": {},
   "outputs": [],
   "source": [
    "import torch\n",
    "import torch.nn.functional as F\n",
    "from torch.utils.data import DataLoader\n",
    "\n",
    "\n",
    "from torch_geometric.utils import train_test_split_edges\n",
    "from torch_geometric.datasets import Planetoid\n",
    "from torch_geometric.nn import Node2Vec\n",
    "from torch_geometric.nn import GCNConv, GAE, VGAE\n",
    "from torch_geometric.data import Data"
   ]
  },
  {
   "cell_type": "code",
   "execution_count": 3,
   "metadata": {},
   "outputs": [],
   "source": [
    "os.chdir(\"..\")"
   ]
  },
  {
   "cell_type": "code",
   "execution_count": 4,
   "metadata": {},
   "outputs": [],
   "source": [
    "from utils.general import gen_model_uuid, gen_dir"
   ]
  },
  {
   "cell_type": "code",
   "execution_count": 10,
   "metadata": {},
   "outputs": [],
   "source": [
    "LOAD_DATASET = True\n",
    "BUILD_CORPUS = True\n",
    "BUILD_MODEL = True\n",
    "VECTORIZE_TABLES = True\n",
    "EVALUATE_RESULTS = True"
   ]
  },
  {
   "cell_type": "code",
   "execution_count": 5,
   "metadata": {},
   "outputs": [],
   "source": [
    "#use None if you want a new model\n",
    "#MODEL_UUID = \"60a011217f344169b89d91edc3cb15b1_VGAE\"\n",
    "MODEL_DESCRIPTION = \"VGAE\"\n",
    "MODEL_UUID = None"
   ]
  },
  {
   "cell_type": "code",
   "execution_count": 6,
   "metadata": {},
   "outputs": [
    {
     "name": "stdout",
     "output_type": "stream",
     "text": [
      "60a011217f344169b89d91edc3cb15b1_VGAE\n"
     ]
    }
   ],
   "source": [
    "if not MODEL_UUID:\n",
    "    MODEL_UUID = gen_model_uuid(MODEL_DESCRIPTION)\n",
    "    print(MODEL_UUID)"
   ]
  },
  {
   "cell_type": "code",
   "execution_count": 7,
   "metadata": {},
   "outputs": [],
   "source": [
    "dataset_path=\"./datasets/benchmarks/sales_classification.pickle\""
   ]
  },
  {
   "cell_type": "code",
   "execution_count": 11,
   "metadata": {},
   "outputs": [],
   "source": [
    "if LOAD_DATASET:\n",
    "    dataset= pickle.load(open(dataset_path,\"rb\"))\n",
    "else:\n",
    "    dataset=None"
   ]
  },
  {
   "cell_type": "code",
   "execution_count": 1483,
   "metadata": {},
   "outputs": [],
   "source": [
    "dataset=dataset[:50]"
   ]
  },
  {
   "cell_type": "code",
   "execution_count": 1555,
   "metadata": {},
   "outputs": [],
   "source": [
    "CONF = {\n",
    "    \"add_attr\":True,\n",
    "    \"shuffle_vocab\": True,\n",
    "    \"add_columns\":False,\n",
    "    \"vector_size\":20,\n",
    "#    \"row_window_size\":20,\n",
    "#    \"col_window_size\":100,\n",
    "#    \"min_count\":2  \n",
    "}"
   ]
  },
  {
   "cell_type": "code",
   "execution_count": 1485,
   "metadata": {},
   "outputs": [],
   "source": [
    "def increment_count(cell_dict, ID, key):\n",
    "    \"\"\"\n",
    "    Puts the key in the dictionary and assigns an ID if does not exist or adds one to repeats if it does.\n",
    "    Args:\n",
    "        dict: a dictionary mapping a tuple of strings to a tuple (ID, repeats)\n",
    "        ID:   an ID to assign if key doesn't exist\n",
    "        key:  a tuple containing attribute and value\n",
    "    Return:\n",
    "        ID:      next ID to assign\n",
    "        curr_ID: ID of the current key\n",
    "    \"\"\"\n",
    "    \n",
    "    if key in cell_dict:        \n",
    "        cell_dict[key] = (cell_dict[key][0], cell_dict[key][1] + 1)\n",
    "    else:\n",
    "        cell_dict[key] = (ID, 1)        \n",
    "        ID += 1\n",
    "    return ID, cell_dict[key][0]\n",
    "\n",
    "\n",
    "def tokenize_table(table,cell_dict,ID,include_attr=True):\n",
    "    ttable=np.zeros(table.shape,dtype=np.int64)\n",
    "    for i,row in enumerate(table.values):\n",
    "        for (j, cell) in enumerate(row):\n",
    "            if include_attr:\n",
    "                key=(table.columns[j],cell)\n",
    "            else:\n",
    "                key=cell\n",
    "            ID, curr_ID  = increment_count(cell_dict, ID,key)             \n",
    "            ttable[i,j]=curr_ID\n",
    "    return ttable,ID\n",
    "\n",
    "def create_corpus(tables,include_attr=False):\n",
    "    cell_dict={}\n",
    "    ID=0\n",
    "    tokenized_tables=[]\n",
    "    for table_entry in tables:\n",
    "        table=table_entry[\"table\"]\n",
    "    #Process TT first\n",
    "        #tt=tables_dict[table_entry][\"table\"]\n",
    "        tokenized_tt,ID= tokenize_table(table,cell_dict,ID,include_attr=include_attr)\n",
    "        tokenized_tables.append(tokenized_tt)\n",
    "    vocabulary=range(ID)\n",
    "    reversed_dictionary = dict(zip([x[0] for x in cell_dict.values()], cell_dict.keys()))\n",
    "    #f = open(output_path, 'wb')\n",
    "    return tokenized_tables, vocabulary, cell_dict, reversed_dictionary\n",
    "\n"
   ]
  },
  {
   "cell_type": "code",
   "execution_count": 1486,
   "metadata": {},
   "outputs": [],
   "source": [
    "if BUILD_CORPUS:\n",
    "    corpus_dir = gen_dir(MODEL_UUID,\"corpus/\")\n",
    "    corpus_path= os.path.join(corpus_dir,\"corpus_tuple.pickle\")\n",
    "    if not dataset:\n",
    "        dataset= pickle.load(open(dataset_path,\"rb\"))\n",
    "        \n",
    "    corpus_tuple = create_corpus(dataset,include_attr=CONF[\"add_attr\"])\n",
    "    pickle.dump(corpus_tuple,open(corpus_path,\"wb\"))\n",
    "else:\n",
    "    corpus_tuple = pickle.load(open(corpus_path,\"rb\"))"
   ]
  },
  {
   "cell_type": "code",
   "execution_count": 1487,
   "metadata": {},
   "outputs": [],
   "source": [
    "tokenized_tables, vocabulary, cell_dict, reversed_dictionary = corpus_tuple"
   ]
  },
  {
   "cell_type": "markdown",
   "metadata": {},
   "source": [
    "# Build table graphs"
   ]
  },
  {
   "cell_type": "markdown",
   "metadata": {},
   "source": [
    "### attempt to shuffle the vocab"
   ]
  },
  {
   "cell_type": "code",
   "execution_count": 1557,
   "metadata": {},
   "outputs": [],
   "source": [
    "def shuffle_vocabulary(vocabulary):\n",
    "    return np.random.permutation(vocabulary)\n",
    "\n",
    "\n",
    "def process_row(edges_dict,row,s_vocab=None):\n",
    "    for r1 in row:\n",
    "        for r2 in row:\n",
    "            if r1==r2:\n",
    "                continue\n",
    "            s,t = tuple(sorted((r1,r2)))\n",
    "            if s_vocab is not None:\n",
    "                s,t = s_vocab[s],s_vocab[t]\n",
    "            if ((s,t)) in edges_dict:\n",
    "                edges_dict[(s,t)]+=1\n",
    "            else:\n",
    "                edges_dict[(s,t)]=1\n",
    "\n",
    "def get_edges(matrices,s_vocab=None):\n",
    "    edges_dict={}\n",
    "    for m in matrices:\n",
    "        for row in m:\n",
    "            process_row(edges_dict,row,s_vocab=s_vocab)\n",
    "    return edges_dict\n",
    "    \n",
    "def build_graph_edges(tokenized_tables,s_vocab=None,sample_frac=1.0):\n",
    "    edges=get_edges(tokenized_tables,s_vocab=shuffled_vocab)\n",
    "    edges_list = []\n",
    "    for (s,t), size in edges.items():\n",
    "        edges_list.append({\"source\":s,\"target\":t,\"weight\":size})\n",
    "    edges_df = pd.DataFrame(edges_list)\n",
    "    #take sample:\n",
    "    sample_edges=edges_df.sample(frac=sample_frac,weights='weight')\n",
    "    \n",
    "    #build the coo edges arrays:\n",
    "    sources=sample_edges.source.values\n",
    "    targets=sample_edges.target.values\n",
    "    e1=np.concatenate((sources,targets))\n",
    "    e2=np.concatenate((targets,sources))\n",
    "    weights = sample_edges.weight.values\n",
    "    edge_index = torch.tensor([e1,e2],dtype=torch.long)\n",
    "    edge_weights= torch.tensor(np.concatenate((weights,weights)),dtype=torch.float32)\n",
    "    return edge_index, edge_weights\n",
    "\n",
    "def build_node_features(vocabulary,type=\"ones\"):\n",
    "    #ways to deal with **featuresless** nodes\n",
    "    if type == \"ones\":\n",
    "        nodes = torch.ones(len(vocabulary),dtype=torch.float32)\n",
    "        nodes=nodes.reshape((len(nodes),1))\n",
    "    elif type == \"ordinal\":\n",
    "        nodes=torch.tensor(vocabulary,dtype=torch.float32)\n",
    "        nodes=nodes.reshape((len(nodes),1))\n",
    "    elif type == \"onehot\":\n",
    "        nodes = torch.sparse.torch.eye(len(vocabulary))\n",
    "    return nodes\n",
    "        \n",
    "\n",
    "\n"
   ]
  },
  {
   "cell_type": "code",
   "execution_count": 1558,
   "metadata": {},
   "outputs": [],
   "source": [
    "if CONF[\"shuffle_vocab\"] == True:\n",
    "    shuffled_vocab = shuffle_vocabulary(vocabulary)\n",
    "else:\n",
    "    shuffled_vocab = None"
   ]
  },
  {
   "cell_type": "code",
   "execution_count": 1560,
   "metadata": {},
   "outputs": [],
   "source": [
    "edge_index, edge_weights = build_graph_edges(tokenized_tables,s_vocab=shuffled_vocab,sample_frac=0.5)\n",
    "nodes = build_node_features(vocabulary)\n",
    "graph_data = Data(x=nodes,edge_index=edge_index,edge_attr=edge_weights)"
   ]
  },
  {
   "cell_type": "markdown",
   "metadata": {},
   "source": [
    "## Train GAE"
   ]
  },
  {
   "cell_type": "code",
   "execution_count": 1509,
   "metadata": {},
   "outputs": [],
   "source": [
    "class Encoder(torch.nn.Module):\n",
    "    def __init__(self, in_channels, out_channels):\n",
    "        super(Encoder, self).__init__()\n",
    "        self.conv1 = GCNConv(in_channels, 2 * out_channels, cached=True)\n",
    "        self.conv_mu = GCNConv(2 * out_channels, out_channels, cached=True)\n",
    "        self.conv_logvar = GCNConv(\n",
    "            2 * out_channels, out_channels, cached=True)\n",
    "    def forward(self, x, edge_index):\n",
    "        x = F.relu(self.conv1(x, edge_index))\n",
    "        return self.conv_mu(x, edge_index), self.conv_logvar(x, edge_index)\n"
   ]
  },
  {
   "cell_type": "code",
   "execution_count": 1510,
   "metadata": {},
   "outputs": [],
   "source": [
    "loader = DataLoader(torch.arange(graph_data.num_nodes), batch_size=128, shuffle=True)\n",
    "device = 'cuda' if torch.cuda.is_available() else 'cpu'"
   ]
  },
  {
   "cell_type": "code",
   "execution_count": 1561,
   "metadata": {},
   "outputs": [],
   "source": [
    "channels=CONF[\"vector_size\"]"
   ]
  },
  {
   "cell_type": "code",
   "execution_count": 1512,
   "metadata": {},
   "outputs": [],
   "source": [
    "enc = Encoder(graph_data.num_features, channels)"
   ]
  },
  {
   "cell_type": "code",
   "execution_count": 1513,
   "metadata": {},
   "outputs": [],
   "source": [
    "model = VGAE(enc)\n",
    "model = model.to(device)"
   ]
  },
  {
   "cell_type": "code",
   "execution_count": 1514,
   "metadata": {},
   "outputs": [],
   "source": [
    "graph_data.train_mask = graph_data.val_mask = graph_data.test_mask = graph_data.y = None"
   ]
  },
  {
   "cell_type": "code",
   "execution_count": 1515,
   "metadata": {},
   "outputs": [],
   "source": [
    "graph_data = train_test_split_edges(graph_data)"
   ]
  },
  {
   "cell_type": "code",
   "execution_count": 1516,
   "metadata": {},
   "outputs": [],
   "source": [
    "x, train_pos_edge_index = graph_data.x.to(device), graph_data.train_pos_edge_index.to(device)"
   ]
  },
  {
   "cell_type": "code",
   "execution_count": 1517,
   "metadata": {},
   "outputs": [],
   "source": [
    "optimizer = torch.optim.Adam(model.parameters(), lr=0.01)"
   ]
  },
  {
   "cell_type": "code",
   "execution_count": 1518,
   "metadata": {},
   "outputs": [],
   "source": [
    "def train_all():\n",
    "    model.train()\n",
    "    optimizer.zero_grad()\n",
    "    z = model.encode(x, train_pos_edge_index)\n",
    "    loss = model.recon_loss(z, train_pos_edge_index)\n",
    "#    loss = model.kl_loss()\n",
    "    \n",
    "    loss.backward()\n",
    "    optimizer.step()\n",
    "\n",
    "def train():\n",
    "    model.train()\n",
    "    optimizer.zero_grad()\n",
    "    z = model.encode(x, train_pos_edge_index)\n",
    "    #loss = model.recon_loss(z, train_pos_edge_index)\n",
    "    loss = model.kl_loss()\n",
    "    print(loss.detach().numpy())\n",
    "    loss.backward()\n",
    "    optimizer.step()\n",
    "\n",
    "\n",
    "def test(pos_edge_index, neg_edge_index):\n",
    "    model.eval()\n",
    "    with torch.no_grad():\n",
    "        z = model.encode(x, train_pos_edge_index)\n",
    "    return model.test(z, pos_edge_index, neg_edge_index)"
   ]
  },
  {
   "cell_type": "code",
   "execution_count": 1519,
   "metadata": {},
   "outputs": [
    {
     "name": "stdout",
     "output_type": "stream",
     "text": [
      "0.34917596\n",
      "Epoch: 001, AUC: 0.9674, AP: 0.9712\n",
      "0.099776946\n",
      "Epoch: 002, AUC: 0.9675, AP: 0.9710\n",
      "0.04641069\n",
      "Epoch: 003, AUC: 0.9729, AP: 0.9769\n",
      "0.055743873\n",
      "Epoch: 004, AUC: 0.9710, AP: 0.9748\n",
      "0.064573266\n",
      "Epoch: 005, AUC: 0.9619, AP: 0.9653\n",
      "0.059001394\n",
      "Epoch: 006, AUC: 0.9219, AP: 0.9261\n",
      "0.046373617\n",
      "Epoch: 007, AUC: 0.7629, AP: 0.7538\n",
      "0.034983665\n",
      "Epoch: 008, AUC: 0.4041, AP: 0.4494\n",
      "0.027674923\n",
      "Epoch: 009, AUC: 0.2679, AP: 0.3802\n"
     ]
    }
   ],
   "source": [
    "for epoch in range(1, 10):\n",
    "    train()\n",
    "    auc, ap = test(graph_data.test_pos_edge_index, graph_data.test_neg_edge_index)\n",
    "    print('Epoch: {:03d}, AUC: {:.4f}, AP: {:.4f}'.format(epoch, auc, ap))"
   ]
  },
  {
   "cell_type": "markdown",
   "metadata": {},
   "source": [
    "## Generate Table Vectors"
   ]
  },
  {
   "cell_type": "code",
   "execution_count": 1520,
   "metadata": {},
   "outputs": [],
   "source": [
    "model.eval()\n",
    "with torch.no_grad():\n",
    "    z = model.encode(x, train_pos_edge_index)\n",
    "    cell_vectors = z.cpu().numpy()\n",
    "\n"
   ]
  },
  {
   "cell_type": "code",
   "execution_count": 1521,
   "metadata": {},
   "outputs": [
    {
     "data": {
      "text/plain": [
       "(4759, 50)"
      ]
     },
     "execution_count": 1521,
     "metadata": {},
     "output_type": "execute_result"
    }
   ],
   "source": [
    "cell_vectors.shape"
   ]
  },
  {
   "cell_type": "code",
   "execution_count": 1522,
   "metadata": {},
   "outputs": [
    {
     "data": {
      "text/plain": [
       "<matplotlib.axes._subplots.AxesSubplot at 0x7f8ed89f3450>"
      ]
     },
     "execution_count": 1522,
     "metadata": {},
     "output_type": "execute_result"
    },
    {
     "data": {
      "image/png": "[encoded data removed]",
      "text/plain": [
       "<Figure size 432x288 with 1 Axes>"
      ]
     },
     "metadata": {
      "needs_background": "light"
     },
     "output_type": "display_data"
    }
   ],
   "source": [
    "idx = np.random.randint(len(cell_vectors), size=1000)\n",
    "sample = cell_vectors[idx,:]\n",
    "vals = TSNE(n_components=2).fit_transform(sample)\n",
    "sns.scatterplot(x=vals[:,0],y=vals[:,1])"
   ]
  },
  {
   "cell_type": "code",
   "execution_count": 1523,
   "metadata": {},
   "outputs": [],
   "source": []
  },
  {
   "cell_type": "code",
   "execution_count": 1524,
   "metadata": {},
   "outputs": [],
   "source": [
    "table = tokenized_tables[1]\n",
    "vec_table=[]\n",
    "for col_id in range(table.shape[1]):\n",
    "    #print(col_id)\n",
    "    vec_table+=[{\"vector\":get_vector(x,cell_vectors,s_vocab=shuffled_vocab),\"col_id\":col_id} for _,x in np.ndenumerate(table[:,col_id])]"
   ]
  },
  {
   "cell_type": "code",
   "execution_count": 1525,
   "metadata": {},
   "outputs": [],
   "source": [
    "vec_df=pd.DataFrame(vec_table)"
   ]
  },
  {
   "cell_type": "code",
   "execution_count": 1526,
   "metadata": {},
   "outputs": [],
   "source": [
    "x = TSNE(n_components=2).fit_transform(list(vec_df.vector.values))"
   ]
  },
  {
   "cell_type": "code",
   "execution_count": 1527,
   "metadata": {},
   "outputs": [],
   "source": [
    "vec_df[\"x\"]=x.T[0]\n",
    "vec_df[\"y\"]=x.T[1]"
   ]
  },
  {
   "cell_type": "code",
   "execution_count": 1528,
   "metadata": {},
   "outputs": [],
   "source": [
    "vec_df.col_id=vec_df.col_id.astype(\"category\")"
   ]
  },
  {
   "cell_type": "code",
   "execution_count": 1529,
   "metadata": {},
   "outputs": [
    {
     "data": {
      "text/html": [
       "<div>\n",
       "<style scoped>\n",
       "    .dataframe tbody tr th:only-of-type {\n",
       "        vertical-align: middle;\n",
       "    }\n",
       "\n",
       "    .dataframe tbody tr th {\n",
       "        vertical-align: top;\n",
       "    }\n",
       "\n",
       "    .dataframe thead th {\n",
       "        text-align: right;\n",
       "    }\n",
       "</style>\n",
       "<table border=\"1\" class=\"dataframe\">\n",
       "  <thead>\n",
       "    <tr style=\"text-align: right;\">\n",
       "      <th></th>\n",
       "      <th>DayOfWeek</th>\n",
       "      <th>Date</th>\n",
       "      <th>Sales</th>\n",
       "      <th>Customers</th>\n",
       "      <th>Open</th>\n",
       "      <th>Promo</th>\n",
       "      <th>StateHoliday</th>\n",
       "      <th>SchoolHoliday</th>\n",
       "      <th>StoreType</th>\n",
       "      <th>Assortment</th>\n",
       "      <th>CompetitionDistance</th>\n",
       "      <th>CompetitionOpenSinceMonth</th>\n",
       "      <th>CompetitionOpenSinceYear</th>\n",
       "      <th>Promo2</th>\n",
       "      <th>Promo2SinceWeek</th>\n",
       "      <th>Promo2SinceYear</th>\n",
       "      <th>PromoInterval</th>\n",
       "    </tr>\n",
       "  </thead>\n",
       "  <tbody>\n",
       "    <tr>\n",
       "      <th>883139</th>\n",
       "      <td>3</td>\n",
       "      <td>2013-05-01</td>\n",
       "      <td>0</td>\n",
       "      <td>0</td>\n",
       "      <td>0</td>\n",
       "      <td>1</td>\n",
       "      <td>a</td>\n",
       "      <td>0</td>\n",
       "      <td>a</td>\n",
       "      <td>c</td>\n",
       "      <td>8860.0</td>\n",
       "      <td>4.0</td>\n",
       "      <td>2004.0</td>\n",
       "      <td>1.0</td>\n",
       "      <td>37.0</td>\n",
       "      <td>2009.0</td>\n",
       "      <td>Jan,Apr,Jul,Oct</td>\n",
       "    </tr>\n",
       "    <tr>\n",
       "      <th>123494</th>\n",
       "      <td>7</td>\n",
       "      <td>2015-04-12</td>\n",
       "      <td>0</td>\n",
       "      <td>0</td>\n",
       "      <td>0</td>\n",
       "      <td>0</td>\n",
       "      <td>0</td>\n",
       "      <td>0</td>\n",
       "      <td>a</td>\n",
       "      <td>c</td>\n",
       "      <td>8860.0</td>\n",
       "      <td>4.0</td>\n",
       "      <td>2004.0</td>\n",
       "      <td>1.0</td>\n",
       "      <td>37.0</td>\n",
       "      <td>2009.0</td>\n",
       "      <td>Jan,Apr,Jul,Oct</td>\n",
       "    </tr>\n",
       "    <tr>\n",
       "      <th>956729</th>\n",
       "      <td>7</td>\n",
       "      <td>2013-02-24</td>\n",
       "      <td>0</td>\n",
       "      <td>0</td>\n",
       "      <td>0</td>\n",
       "      <td>0</td>\n",
       "      <td>0</td>\n",
       "      <td>0</td>\n",
       "      <td>a</td>\n",
       "      <td>c</td>\n",
       "      <td>8860.0</td>\n",
       "      <td>4.0</td>\n",
       "      <td>2004.0</td>\n",
       "      <td>1.0</td>\n",
       "      <td>37.0</td>\n",
       "      <td>2009.0</td>\n",
       "      <td>Jan,Apr,Jul,Oct</td>\n",
       "    </tr>\n",
       "    <tr>\n",
       "      <th>244564</th>\n",
       "      <td>2</td>\n",
       "      <td>2014-12-23</td>\n",
       "      <td>7161</td>\n",
       "      <td>553</td>\n",
       "      <td>1</td>\n",
       "      <td>0</td>\n",
       "      <td>0</td>\n",
       "      <td>1</td>\n",
       "      <td>a</td>\n",
       "      <td>c</td>\n",
       "      <td>8860.0</td>\n",
       "      <td>4.0</td>\n",
       "      <td>2004.0</td>\n",
       "      <td>1.0</td>\n",
       "      <td>37.0</td>\n",
       "      <td>2009.0</td>\n",
       "      <td>Jan,Apr,Jul,Oct</td>\n",
       "    </tr>\n",
       "    <tr>\n",
       "      <th>510729</th>\n",
       "      <td>1</td>\n",
       "      <td>2014-03-31</td>\n",
       "      <td>7541</td>\n",
       "      <td>481</td>\n",
       "      <td>1</td>\n",
       "      <td>1</td>\n",
       "      <td>0</td>\n",
       "      <td>0</td>\n",
       "      <td>a</td>\n",
       "      <td>c</td>\n",
       "      <td>8860.0</td>\n",
       "      <td>4.0</td>\n",
       "      <td>2004.0</td>\n",
       "      <td>1.0</td>\n",
       "      <td>37.0</td>\n",
       "      <td>2009.0</td>\n",
       "      <td>Jan,Apr,Jul,Oct</td>\n",
       "    </tr>\n",
       "  </tbody>\n",
       "</table>\n",
       "</div>"
      ],
      "text/plain": [
       "        DayOfWeek        Date  Sales  Customers  Open  Promo StateHoliday  \\\n",
       "883139          3  2013-05-01      0          0     0      1            a   \n",
       "123494          7  2015-04-12      0          0     0      0            0   \n",
       "956729          7  2013-02-24      0          0     0      0            0   \n",
       "244564          2  2014-12-23   7161        553     1      0            0   \n",
       "510729          1  2014-03-31   7541        481     1      1            0   \n",
       "\n",
       "        SchoolHoliday StoreType Assortment  CompetitionDistance  \\\n",
       "883139              0         a          c               8860.0   \n",
       "123494              0         a          c               8860.0   \n",
       "956729              0         a          c               8860.0   \n",
       "244564              1         a          c               8860.0   \n",
       "510729              0         a          c               8860.0   \n",
       "\n",
       "        CompetitionOpenSinceMonth  CompetitionOpenSinceYear  Promo2  \\\n",
       "883139                        4.0                    2004.0     1.0   \n",
       "123494                        4.0                    2004.0     1.0   \n",
       "956729                        4.0                    2004.0     1.0   \n",
       "244564                        4.0                    2004.0     1.0   \n",
       "510729                        4.0                    2004.0     1.0   \n",
       "\n",
       "        Promo2SinceWeek  Promo2SinceYear    PromoInterval  \n",
       "883139             37.0           2009.0  Jan,Apr,Jul,Oct  \n",
       "123494             37.0           2009.0  Jan,Apr,Jul,Oct  \n",
       "956729             37.0           2009.0  Jan,Apr,Jul,Oct  \n",
       "244564             37.0           2009.0  Jan,Apr,Jul,Oct  \n",
       "510729             37.0           2009.0  Jan,Apr,Jul,Oct  "
      ]
     },
     "execution_count": 1529,
     "metadata": {},
     "output_type": "execute_result"
    }
   ],
   "source": [
    "dataset[1][\"table\"].head()"
   ]
  },
  {
   "cell_type": "code",
   "execution_count": 1530,
   "metadata": {
    "scrolled": true
   },
   "outputs": [
    {
     "data": {
      "text/plain": [
       "<matplotlib.legend.Legend at 0x7f8f0096cf90>"
      ]
     },
     "execution_count": 1530,
     "metadata": {},
     "output_type": "execute_result"
    },
    {
     "data": {
      "image/png": "[encoded data removed]",
      "text/plain": [
       "<Figure size 432x288 with 1 Axes>"
      ]
     },
     "metadata": {
      "needs_background": "light"
     },
     "output_type": "display_data"
    }
   ],
   "source": [
    "sns.scatterplot(x=\"x\",y=\"y\",data=vec_df,hue=\"col_id\")\n",
    "plt.legend(bbox_to_anchor=(1.05, 1), loc=2, borderaxespad=0.)"
   ]
  },
  {
   "cell_type": "code",
   "execution_count": 1531,
   "metadata": {},
   "outputs": [],
   "source": [
    "sums=vec_df.groupby(\"col_id\").vector.apply(lambda x: np.sum(np.abs(x),axis=0))"
   ]
  },
  {
   "cell_type": "code",
   "execution_count": 1532,
   "metadata": {},
   "outputs": [
    {
     "data": {
      "text/plain": [
       "array([ 12.692903 , 168.00815  ,   8.975369 ,  15.411985 ,  58.934998 ,\n",
       "        25.684423 ,  40.897366 ,  34.28316  ,  21.815434 ,   4.580709 ,\n",
       "        29.920835 ,  42.500122 ,   9.342714 ,  33.44591  ,  24.019386 ,\n",
       "        24.979385 ,  29.824553 ,  27.108294 ,  71.612335 ,  33.18109  ,\n",
       "        18.929441 ,  23.954964 ,  25.53641  ,  16.800621 ,  37.45943  ,\n",
       "        14.339187 ,  67.492355 ,  12.823395 ,  48.201572 ,   5.3172045,\n",
       "        22.695854 ,  15.963666 ,  30.794416 ,  33.428463 ,  59.903492 ,\n",
       "        40.017967 ,  24.888937 ,  63.35956  ,  24.928911 ,  22.783419 ,\n",
       "        40.790802 ,  81.23289  ,  73.286446 ,  15.086063 ,  18.328007 ,\n",
       "        45.821598 ,  38.30774  ,  11.997694 ,  35.265953 ,  47.722572 ],\n",
       "      dtype=float32)"
      ]
     },
     "execution_count": 1532,
     "metadata": {},
     "output_type": "execute_result"
    }
   ],
   "source": [
    "sums.sum()"
   ]
  },
  {
   "cell_type": "code",
   "execution_count": 1533,
   "metadata": {},
   "outputs": [],
   "source": [
    "similarities = euclidean_distances(vec_list)\n",
    "sim=pd.DataFrame(similarities)"
   ]
  },
  {
   "cell_type": "code",
   "execution_count": 1534,
   "metadata": {},
   "outputs": [
    {
     "data": {
      "text/plain": [
       "0       0.000000\n",
       "39      0.433150\n",
       "36      0.550310\n",
       "2       0.627069\n",
       "346     0.639713\n",
       "         ...    \n",
       "115     9.884384\n",
       "720    10.154811\n",
       "320    10.794767\n",
       "116    11.414783\n",
       "117    11.668684\n",
       "Name: 0, Length: 1000, dtype: float32"
      ]
     },
     "execution_count": 1534,
     "metadata": {},
     "output_type": "execute_result"
    }
   ],
   "source": [
    "sim[0].sort_values()"
   ]
  },
  {
   "cell_type": "code",
   "execution_count": 1535,
   "metadata": {},
   "outputs": [],
   "source": [
    "if VECTORIZE_TABLES:\n",
    "    vectors_dir=gen_dir(MODEL_UUID,\"vectors\")\n",
    "    vectors_path=os.path.join(vectors_dir,\"table_vectors.pickle\")\n",
    "    vec_list=generate_table_vectors(cell_vectors,tokenized_tables,s_vocab=shuffled_vocab)\n",
    "    pickle.dump(vec_list,open(vectors_path,\"wb\"))\n",
    "else:\n",
    "    vec_list = pickle.load(open(vectors_path,\"rb\"))"
   ]
  },
  {
   "cell_type": "markdown",
   "metadata": {},
   "source": [
    "## 4) Evaluate the Model\n"
   ]
  },
  {
   "cell_type": "code",
   "execution_count": 1536,
   "metadata": {},
   "outputs": [],
   "source": [
    "from sklearn.decomposition import PCA\n",
    "from scipy.spatial.distance import cosine,euclidean\n",
    "from sklearn.metrics import euclidean_distances\n",
    "from sklearn.manifold import MDS"
   ]
  },
  {
   "cell_type": "code",
   "execution_count": 1537,
   "metadata": {},
   "outputs": [],
   "source": [
    "k=5"
   ]
  },
  {
   "cell_type": "code",
   "execution_count": 1538,
   "metadata": {},
   "outputs": [],
   "source": [
    "def count_hits(col,k):\n",
    "    topsim=list(col.sort_values()[0:k].index)\n",
    "    s_label=dataset[topsim[0]][\"label\"]\n",
    "    lab_list=[dataset[i][\"label\"] for i in topsim[1:]]\n",
    "    return len([l for l in lab_list if l==s_label ])\n",
    "\n",
    "def evaluate_model(dataset,vec_list,k=5):\n",
    "    similarities = euclidean_distances(vec_list)\n",
    "    sim=pd.DataFrame(similarities)\n",
    "    a=sim.apply(lambda x:count_hits(x,k),axis=1)\n",
    "    a.sum()\n",
    "    result_score=a.sum()/(len(sim)*k)\n",
    "    return result_score\n",
    "    "
   ]
  },
  {
   "cell_type": "code",
   "execution_count": 1539,
   "metadata": {},
   "outputs": [],
   "source": [
    "if EVALUATE_RESULTS:\n",
    "    results_dir=gen_dir(MODEL_UUID,\"results\")\n",
    "    results_path=os.path.join(results_dir,\"results.pickle\")\n",
    "    result_score=evaluate_model(dataset,vec_list,k=k)\n",
    "    results_dict=CONF.copy()\n",
    "    results_dict[\"score\"]=result_score\n",
    "    results_dict[\"dataset\"]=dataset_path\n",
    "    results_dict[\"model_id\"]=MODEL_UUID\n",
    "    results_dict[\"model_description\"]=MODEL_DESCRIPTION\n",
    "    results_dict[\"topk_size\"]=k\n",
    "    pickle.dump(results_dict,open(results_path,\"wb\"))\n",
    "    \n",
    "    "
   ]
  },
  {
   "cell_type": "code",
   "execution_count": 1540,
   "metadata": {},
   "outputs": [
    {
     "data": {
      "text/plain": [
       "{'add_attr': True,\n",
       " 'add_columns': True,\n",
       " 'vector_size': 100,\n",
       " 'row_window_size': 20,\n",
       " 'col_window_size': 100,\n",
       " 'min_count': 2,\n",
       " 'score': 0.724,\n",
       " 'dataset': './datasets/benchmarks/sales_classification.pickle',\n",
       " 'model_id': '60a011217f344169b89d91edc3cb15b1_VGAE',\n",
       " 'model_description': 'VGAE',\n",
       " 'topk_size': 5}"
      ]
     },
     "execution_count": 1540,
     "metadata": {},
     "output_type": "execute_result"
    }
   ],
   "source": [
    "results_dict"
   ]
  },
  {
   "cell_type": "markdown",
   "metadata": {},
   "source": [
    "### Visualize"
   ]
  },
  {
   "cell_type": "code",
   "execution_count": 1541,
   "metadata": {},
   "outputs": [],
   "source": [
    "from sklearn.manifold import TSNE"
   ]
  },
  {
   "cell_type": "code",
   "execution_count": 1542,
   "metadata": {},
   "outputs": [],
   "source": [
    "vals = TSNE(n_components=2).fit_transform(vec_list)"
   ]
  },
  {
   "cell_type": "code",
   "execution_count": 1543,
   "metadata": {},
   "outputs": [],
   "source": [
    "d=pd.DataFrame(vals)\n",
    "\n",
    "labels=[(t[\"id\"],t[\"label\"]) for t in dataset]\n",
    "\n",
    "dd=pd.DataFrame(labels)\n",
    "\n",
    "dd.columns=[\"tid\",\"label\"]\n",
    "\n",
    "d.columns=[\"x\",\"y\"]\n",
    "\n",
    "d=d.join(dd[\"label\"])"
   ]
  },
  {
   "cell_type": "code",
   "execution_count": 1547,
   "metadata": {
    "scrolled": true
   },
   "outputs": [
    {
     "data": {
      "text/plain": [
       "<matplotlib.legend.Legend at 0x7f8f196a9710>"
      ]
     },
     "execution_count": 1547,
     "metadata": {},
     "output_type": "execute_result"
    },
    {
     "data": {
      "image/png": "[encoded data removed]",
      "text/plain": [
       "<Figure size 432x288 with 1 Axes>"
      ]
     },
     "metadata": {
      "needs_background": "light"
     },
     "output_type": "display_data"
    }
   ],
   "source": [
    "sns.scatterplot(data=d,x=\"x\",y=\"y\",hue=\"label\")\n",
    "plt.legend(bbox_to_anchor=(1.05, 1), loc=2, borderaxespad=0.)"
   ]
  },
  {
   "cell_type": "code",
   "execution_count": 1201,
   "metadata": {},
   "outputs": [
    {
     "data": {
      "text/html": [
       "<div>\n",
       "<style scoped>\n",
       "    .dataframe tbody tr th:only-of-type {\n",
       "        vertical-align: middle;\n",
       "    }\n",
       "\n",
       "    .dataframe tbody tr th {\n",
       "        vertical-align: top;\n",
       "    }\n",
       "\n",
       "    .dataframe thead th {\n",
       "        text-align: right;\n",
       "    }\n",
       "</style>\n",
       "<table border=\"1\" class=\"dataframe\">\n",
       "  <thead>\n",
       "    <tr style=\"text-align: right;\">\n",
       "      <th></th>\n",
       "      <th>DayOfWeek</th>\n",
       "      <th>Date</th>\n",
       "      <th>Sales</th>\n",
       "      <th>Customers</th>\n",
       "      <th>Open</th>\n",
       "      <th>Promo</th>\n",
       "      <th>StateHoliday</th>\n",
       "      <th>SchoolHoliday</th>\n",
       "      <th>StoreType</th>\n",
       "      <th>Assortment</th>\n",
       "      <th>CompetitionDistance</th>\n",
       "      <th>CompetitionOpenSinceMonth</th>\n",
       "      <th>CompetitionOpenSinceYear</th>\n",
       "      <th>Promo2</th>\n",
       "      <th>Promo2SinceWeek</th>\n",
       "      <th>Promo2SinceYear</th>\n",
       "      <th>PromoInterval</th>\n",
       "    </tr>\n",
       "  </thead>\n",
       "  <tbody>\n",
       "    <tr>\n",
       "      <th>834079</th>\n",
       "      <td>5</td>\n",
       "      <td>2013-06-14</td>\n",
       "      <td>4838</td>\n",
       "      <td>390</td>\n",
       "      <td>1</td>\n",
       "      <td>0</td>\n",
       "      <td>0</td>\n",
       "      <td>0</td>\n",
       "      <td>a</td>\n",
       "      <td>c</td>\n",
       "      <td>8860.0</td>\n",
       "      <td>4.0</td>\n",
       "      <td>2004.0</td>\n",
       "      <td>1.0</td>\n",
       "      <td>37.0</td>\n",
       "      <td>2009.0</td>\n",
       "      <td>Jan,Apr,Jul,Oct</td>\n",
       "    </tr>\n",
       "    <tr>\n",
       "      <th>401644</th>\n",
       "      <td>2</td>\n",
       "      <td>2014-07-08</td>\n",
       "      <td>3142</td>\n",
       "      <td>271</td>\n",
       "      <td>1</td>\n",
       "      <td>0</td>\n",
       "      <td>0</td>\n",
       "      <td>1</td>\n",
       "      <td>a</td>\n",
       "      <td>c</td>\n",
       "      <td>8860.0</td>\n",
       "      <td>4.0</td>\n",
       "      <td>2004.0</td>\n",
       "      <td>1.0</td>\n",
       "      <td>37.0</td>\n",
       "      <td>2009.0</td>\n",
       "      <td>Jan,Apr,Jul,Oct</td>\n",
       "    </tr>\n",
       "    <tr>\n",
       "      <th>890944</th>\n",
       "      <td>3</td>\n",
       "      <td>2013-04-24</td>\n",
       "      <td>3769</td>\n",
       "      <td>292</td>\n",
       "      <td>1</td>\n",
       "      <td>1</td>\n",
       "      <td>0</td>\n",
       "      <td>0</td>\n",
       "      <td>a</td>\n",
       "      <td>c</td>\n",
       "      <td>8860.0</td>\n",
       "      <td>4.0</td>\n",
       "      <td>2004.0</td>\n",
       "      <td>1.0</td>\n",
       "      <td>37.0</td>\n",
       "      <td>2009.0</td>\n",
       "      <td>Jan,Apr,Jul,Oct</td>\n",
       "    </tr>\n",
       "    <tr>\n",
       "      <th>647874</th>\n",
       "      <td>4</td>\n",
       "      <td>2013-11-28</td>\n",
       "      <td>3735</td>\n",
       "      <td>306</td>\n",
       "      <td>1</td>\n",
       "      <td>0</td>\n",
       "      <td>0</td>\n",
       "      <td>0</td>\n",
       "      <td>a</td>\n",
       "      <td>c</td>\n",
       "      <td>8860.0</td>\n",
       "      <td>4.0</td>\n",
       "      <td>2004.0</td>\n",
       "      <td>1.0</td>\n",
       "      <td>37.0</td>\n",
       "      <td>2009.0</td>\n",
       "      <td>Jan,Apr,Jul,Oct</td>\n",
       "    </tr>\n",
       "    <tr>\n",
       "      <th>495119</th>\n",
       "      <td>1</td>\n",
       "      <td>2014-04-14</td>\n",
       "      <td>6249</td>\n",
       "      <td>417</td>\n",
       "      <td>1</td>\n",
       "      <td>1</td>\n",
       "      <td>0</td>\n",
       "      <td>1</td>\n",
       "      <td>a</td>\n",
       "      <td>c</td>\n",
       "      <td>8860.0</td>\n",
       "      <td>4.0</td>\n",
       "      <td>2004.0</td>\n",
       "      <td>1.0</td>\n",
       "      <td>37.0</td>\n",
       "      <td>2009.0</td>\n",
       "      <td>Jan,Apr,Jul,Oct</td>\n",
       "    </tr>\n",
       "  </tbody>\n",
       "</table>\n",
       "</div>"
      ],
      "text/plain": [
       "        DayOfWeek        Date  Sales  Customers  Open  Promo StateHoliday  \\\n",
       "834079          5  2013-06-14   4838        390     1      0            0   \n",
       "401644          2  2014-07-08   3142        271     1      0            0   \n",
       "890944          3  2013-04-24   3769        292     1      1            0   \n",
       "647874          4  2013-11-28   3735        306     1      0            0   \n",
       "495119          1  2014-04-14   6249        417     1      1            0   \n",
       "\n",
       "        SchoolHoliday StoreType Assortment  CompetitionDistance  \\\n",
       "834079              0         a          c               8860.0   \n",
       "401644              1         a          c               8860.0   \n",
       "890944              0         a          c               8860.0   \n",
       "647874              0         a          c               8860.0   \n",
       "495119              1         a          c               8860.0   \n",
       "\n",
       "        CompetitionOpenSinceMonth  CompetitionOpenSinceYear  Promo2  \\\n",
       "834079                        4.0                    2004.0     1.0   \n",
       "401644                        4.0                    2004.0     1.0   \n",
       "890944                        4.0                    2004.0     1.0   \n",
       "647874                        4.0                    2004.0     1.0   \n",
       "495119                        4.0                    2004.0     1.0   \n",
       "\n",
       "        Promo2SinceWeek  Promo2SinceYear    PromoInterval  \n",
       "834079             37.0           2009.0  Jan,Apr,Jul,Oct  \n",
       "401644             37.0           2009.0  Jan,Apr,Jul,Oct  \n",
       "890944             37.0           2009.0  Jan,Apr,Jul,Oct  \n",
       "647874             37.0           2009.0  Jan,Apr,Jul,Oct  \n",
       "495119             37.0           2009.0  Jan,Apr,Jul,Oct  "
      ]
     },
     "execution_count": 1201,
     "metadata": {},
     "output_type": "execute_result"
    }
   ],
   "source": [
    "dataset[0][\"table\"].head()"
   ]
  },
  {
   "cell_type": "code",
   "execution_count": 1202,
   "metadata": {},
   "outputs": [
    {
     "data": {
      "text/html": [
       "<div>\n",
       "<style scoped>\n",
       "    .dataframe tbody tr th:only-of-type {\n",
       "        vertical-align: middle;\n",
       "    }\n",
       "\n",
       "    .dataframe tbody tr th {\n",
       "        vertical-align: top;\n",
       "    }\n",
       "\n",
       "    .dataframe thead th {\n",
       "        text-align: right;\n",
       "    }\n",
       "</style>\n",
       "<table border=\"1\" class=\"dataframe\">\n",
       "  <thead>\n",
       "    <tr style=\"text-align: right;\">\n",
       "      <th></th>\n",
       "      <th>DayOfWeek</th>\n",
       "      <th>Date</th>\n",
       "      <th>Sales</th>\n",
       "      <th>Customers</th>\n",
       "      <th>Open</th>\n",
       "      <th>Promo</th>\n",
       "      <th>StateHoliday</th>\n",
       "      <th>SchoolHoliday</th>\n",
       "      <th>StoreType</th>\n",
       "      <th>Assortment</th>\n",
       "      <th>CompetitionDistance</th>\n",
       "      <th>CompetitionOpenSinceMonth</th>\n",
       "      <th>CompetitionOpenSinceYear</th>\n",
       "      <th>Promo2</th>\n",
       "      <th>Promo2SinceWeek</th>\n",
       "      <th>Promo2SinceYear</th>\n",
       "      <th>PromoInterval</th>\n",
       "    </tr>\n",
       "  </thead>\n",
       "  <tbody>\n",
       "    <tr>\n",
       "      <th>883139</th>\n",
       "      <td>3</td>\n",
       "      <td>2013-05-01</td>\n",
       "      <td>0</td>\n",
       "      <td>0</td>\n",
       "      <td>0</td>\n",
       "      <td>1</td>\n",
       "      <td>a</td>\n",
       "      <td>0</td>\n",
       "      <td>a</td>\n",
       "      <td>c</td>\n",
       "      <td>8860.0</td>\n",
       "      <td>4.0</td>\n",
       "      <td>2004.0</td>\n",
       "      <td>1.0</td>\n",
       "      <td>37.0</td>\n",
       "      <td>2009.0</td>\n",
       "      <td>Jan,Apr,Jul,Oct</td>\n",
       "    </tr>\n",
       "    <tr>\n",
       "      <th>123494</th>\n",
       "      <td>7</td>\n",
       "      <td>2015-04-12</td>\n",
       "      <td>0</td>\n",
       "      <td>0</td>\n",
       "      <td>0</td>\n",
       "      <td>0</td>\n",
       "      <td>0</td>\n",
       "      <td>0</td>\n",
       "      <td>a</td>\n",
       "      <td>c</td>\n",
       "      <td>8860.0</td>\n",
       "      <td>4.0</td>\n",
       "      <td>2004.0</td>\n",
       "      <td>1.0</td>\n",
       "      <td>37.0</td>\n",
       "      <td>2009.0</td>\n",
       "      <td>Jan,Apr,Jul,Oct</td>\n",
       "    </tr>\n",
       "    <tr>\n",
       "      <th>956729</th>\n",
       "      <td>7</td>\n",
       "      <td>2013-02-24</td>\n",
       "      <td>0</td>\n",
       "      <td>0</td>\n",
       "      <td>0</td>\n",
       "      <td>0</td>\n",
       "      <td>0</td>\n",
       "      <td>0</td>\n",
       "      <td>a</td>\n",
       "      <td>c</td>\n",
       "      <td>8860.0</td>\n",
       "      <td>4.0</td>\n",
       "      <td>2004.0</td>\n",
       "      <td>1.0</td>\n",
       "      <td>37.0</td>\n",
       "      <td>2009.0</td>\n",
       "      <td>Jan,Apr,Jul,Oct</td>\n",
       "    </tr>\n",
       "    <tr>\n",
       "      <th>244564</th>\n",
       "      <td>2</td>\n",
       "      <td>2014-12-23</td>\n",
       "      <td>7161</td>\n",
       "      <td>553</td>\n",
       "      <td>1</td>\n",
       "      <td>0</td>\n",
       "      <td>0</td>\n",
       "      <td>1</td>\n",
       "      <td>a</td>\n",
       "      <td>c</td>\n",
       "      <td>8860.0</td>\n",
       "      <td>4.0</td>\n",
       "      <td>2004.0</td>\n",
       "      <td>1.0</td>\n",
       "      <td>37.0</td>\n",
       "      <td>2009.0</td>\n",
       "      <td>Jan,Apr,Jul,Oct</td>\n",
       "    </tr>\n",
       "    <tr>\n",
       "      <th>510729</th>\n",
       "      <td>1</td>\n",
       "      <td>2014-03-31</td>\n",
       "      <td>7541</td>\n",
       "      <td>481</td>\n",
       "      <td>1</td>\n",
       "      <td>1</td>\n",
       "      <td>0</td>\n",
       "      <td>0</td>\n",
       "      <td>a</td>\n",
       "      <td>c</td>\n",
       "      <td>8860.0</td>\n",
       "      <td>4.0</td>\n",
       "      <td>2004.0</td>\n",
       "      <td>1.0</td>\n",
       "      <td>37.0</td>\n",
       "      <td>2009.0</td>\n",
       "      <td>Jan,Apr,Jul,Oct</td>\n",
       "    </tr>\n",
       "  </tbody>\n",
       "</table>\n",
       "</div>"
      ],
      "text/plain": [
       "        DayOfWeek        Date  Sales  Customers  Open  Promo StateHoliday  \\\n",
       "883139          3  2013-05-01      0          0     0      1            a   \n",
       "123494          7  2015-04-12      0          0     0      0            0   \n",
       "956729          7  2013-02-24      0          0     0      0            0   \n",
       "244564          2  2014-12-23   7161        553     1      0            0   \n",
       "510729          1  2014-03-31   7541        481     1      1            0   \n",
       "\n",
       "        SchoolHoliday StoreType Assortment  CompetitionDistance  \\\n",
       "883139              0         a          c               8860.0   \n",
       "123494              0         a          c               8860.0   \n",
       "956729              0         a          c               8860.0   \n",
       "244564              1         a          c               8860.0   \n",
       "510729              0         a          c               8860.0   \n",
       "\n",
       "        CompetitionOpenSinceMonth  CompetitionOpenSinceYear  Promo2  \\\n",
       "883139                        4.0                    2004.0     1.0   \n",
       "123494                        4.0                    2004.0     1.0   \n",
       "956729                        4.0                    2004.0     1.0   \n",
       "244564                        4.0                    2004.0     1.0   \n",
       "510729                        4.0                    2004.0     1.0   \n",
       "\n",
       "        Promo2SinceWeek  Promo2SinceYear    PromoInterval  \n",
       "883139             37.0           2009.0  Jan,Apr,Jul,Oct  \n",
       "123494             37.0           2009.0  Jan,Apr,Jul,Oct  \n",
       "956729             37.0           2009.0  Jan,Apr,Jul,Oct  \n",
       "244564             37.0           2009.0  Jan,Apr,Jul,Oct  \n",
       "510729             37.0           2009.0  Jan,Apr,Jul,Oct  "
      ]
     },
     "execution_count": 1202,
     "metadata": {},
     "output_type": "execute_result"
    }
   ],
   "source": [
    "dataset[1][\"table\"].head()"
   ]
  },
  {
   "cell_type": "code",
   "execution_count": 954,
   "metadata": {},
   "outputs": [
    {
     "data": {
      "text/html": [
       "<div>\n",
       "<style scoped>\n",
       "    .dataframe tbody tr th:only-of-type {\n",
       "        vertical-align: middle;\n",
       "    }\n",
       "\n",
       "    .dataframe tbody tr th {\n",
       "        vertical-align: top;\n",
       "    }\n",
       "\n",
       "    .dataframe thead th {\n",
       "        text-align: right;\n",
       "    }\n",
       "</style>\n",
       "<table border=\"1\" class=\"dataframe\">\n",
       "  <thead>\n",
       "    <tr style=\"text-align: right;\">\n",
       "      <th></th>\n",
       "      <th>DayOfWeek</th>\n",
       "      <th>Date</th>\n",
       "      <th>Sales</th>\n",
       "      <th>Customers</th>\n",
       "      <th>Open</th>\n",
       "      <th>Promo</th>\n",
       "      <th>StateHoliday</th>\n",
       "      <th>SchoolHoliday</th>\n",
       "      <th>StoreType</th>\n",
       "      <th>Assortment</th>\n",
       "      <th>CompetitionDistance</th>\n",
       "      <th>CompetitionOpenSinceMonth</th>\n",
       "      <th>CompetitionOpenSinceYear</th>\n",
       "      <th>Promo2</th>\n",
       "      <th>Promo2SinceWeek</th>\n",
       "      <th>Promo2SinceYear</th>\n",
       "      <th>PromoInterval</th>\n",
       "    </tr>\n",
       "  </thead>\n",
       "  <tbody>\n",
       "    <tr>\n",
       "      <th>538931</th>\n",
       "      <td>3</td>\n",
       "      <td>2014-03-05</td>\n",
       "      <td>14091</td>\n",
       "      <td>1212</td>\n",
       "      <td>1</td>\n",
       "      <td>1</td>\n",
       "      <td>0</td>\n",
       "      <td>0</td>\n",
       "      <td>a</td>\n",
       "      <td>c</td>\n",
       "      <td>7340.0</td>\n",
       "      <td>5.0</td>\n",
       "      <td>2008.0</td>\n",
       "      <td>1.0</td>\n",
       "      <td>27.0</td>\n",
       "      <td>2012.0</td>\n",
       "      <td>Jan,Apr,Jul,Oct</td>\n",
       "    </tr>\n",
       "    <tr>\n",
       "      <th>827716</th>\n",
       "      <td>3</td>\n",
       "      <td>2013-06-19</td>\n",
       "      <td>10831</td>\n",
       "      <td>982</td>\n",
       "      <td>1</td>\n",
       "      <td>1</td>\n",
       "      <td>0</td>\n",
       "      <td>0</td>\n",
       "      <td>a</td>\n",
       "      <td>c</td>\n",
       "      <td>7340.0</td>\n",
       "      <td>5.0</td>\n",
       "      <td>2008.0</td>\n",
       "      <td>1.0</td>\n",
       "      <td>27.0</td>\n",
       "      <td>2012.0</td>\n",
       "      <td>Jan,Apr,Jul,Oct</td>\n",
       "    </tr>\n",
       "    <tr>\n",
       "      <th>312162</th>\n",
       "      <td>6</td>\n",
       "      <td>2014-10-11</td>\n",
       "      <td>6442</td>\n",
       "      <td>682</td>\n",
       "      <td>1</td>\n",
       "      <td>0</td>\n",
       "      <td>0</td>\n",
       "      <td>0</td>\n",
       "      <td>a</td>\n",
       "      <td>c</td>\n",
       "      <td>7340.0</td>\n",
       "      <td>5.0</td>\n",
       "      <td>2008.0</td>\n",
       "      <td>1.0</td>\n",
       "      <td>27.0</td>\n",
       "      <td>2012.0</td>\n",
       "      <td>Jan,Apr,Jul,Oct</td>\n",
       "    </tr>\n",
       "    <tr>\n",
       "      <th>880121</th>\n",
       "      <td>5</td>\n",
       "      <td>2013-05-03</td>\n",
       "      <td>12535</td>\n",
       "      <td>1223</td>\n",
       "      <td>1</td>\n",
       "      <td>1</td>\n",
       "      <td>0</td>\n",
       "      <td>0</td>\n",
       "      <td>a</td>\n",
       "      <td>c</td>\n",
       "      <td>7340.0</td>\n",
       "      <td>5.0</td>\n",
       "      <td>2008.0</td>\n",
       "      <td>1.0</td>\n",
       "      <td>27.0</td>\n",
       "      <td>2012.0</td>\n",
       "      <td>Jan,Apr,Jul,Oct</td>\n",
       "    </tr>\n",
       "    <tr>\n",
       "      <th>224171</th>\n",
       "      <td>7</td>\n",
       "      <td>2015-01-11</td>\n",
       "      <td>0</td>\n",
       "      <td>0</td>\n",
       "      <td>0</td>\n",
       "      <td>0</td>\n",
       "      <td>0</td>\n",
       "      <td>0</td>\n",
       "      <td>a</td>\n",
       "      <td>c</td>\n",
       "      <td>7340.0</td>\n",
       "      <td>5.0</td>\n",
       "      <td>2008.0</td>\n",
       "      <td>1.0</td>\n",
       "      <td>27.0</td>\n",
       "      <td>2012.0</td>\n",
       "      <td>Jan,Apr,Jul,Oct</td>\n",
       "    </tr>\n",
       "  </tbody>\n",
       "</table>\n",
       "</div>"
      ],
      "text/plain": [
       "        DayOfWeek        Date  Sales  Customers  Open  Promo StateHoliday  \\\n",
       "538931          3  2014-03-05  14091       1212     1      1            0   \n",
       "827716          3  2013-06-19  10831        982     1      1            0   \n",
       "312162          6  2014-10-11   6442        682     1      0            0   \n",
       "880121          5  2013-05-03  12535       1223     1      1            0   \n",
       "224171          7  2015-01-11      0          0     0      0            0   \n",
       "\n",
       "        SchoolHoliday StoreType Assortment  CompetitionDistance  \\\n",
       "538931              0         a          c               7340.0   \n",
       "827716              0         a          c               7340.0   \n",
       "312162              0         a          c               7340.0   \n",
       "880121              0         a          c               7340.0   \n",
       "224171              0         a          c               7340.0   \n",
       "\n",
       "        CompetitionOpenSinceMonth  CompetitionOpenSinceYear  Promo2  \\\n",
       "538931                        5.0                    2008.0     1.0   \n",
       "827716                        5.0                    2008.0     1.0   \n",
       "312162                        5.0                    2008.0     1.0   \n",
       "880121                        5.0                    2008.0     1.0   \n",
       "224171                        5.0                    2008.0     1.0   \n",
       "\n",
       "        Promo2SinceWeek  Promo2SinceYear    PromoInterval  \n",
       "538931             27.0           2012.0  Jan,Apr,Jul,Oct  \n",
       "827716             27.0           2012.0  Jan,Apr,Jul,Oct  \n",
       "312162             27.0           2012.0  Jan,Apr,Jul,Oct  \n",
       "880121             27.0           2012.0  Jan,Apr,Jul,Oct  \n",
       "224171             27.0           2012.0  Jan,Apr,Jul,Oct  "
      ]
     },
     "execution_count": 954,
     "metadata": {},
     "output_type": "execute_result"
    }
   ],
   "source": [
    "dataset[921][\"table\"].head()"
   ]
  },
  {
   "cell_type": "code",
   "execution_count": 973,
   "metadata": {},
   "outputs": [
    {
     "data": {
      "text/plain": [
       "681"
      ]
     },
     "execution_count": 973,
     "metadata": {},
     "output_type": "execute_result"
    }
   ],
   "source": [
    "np.sum(tokenized_tables[0] == tokenized_tables[921])"
   ]
  },
  {
   "cell_type": "code",
   "execution_count": null,
   "metadata": {},
   "outputs": [],
   "source": []
  }
 ],
 "metadata": {
  "kernelspec": {
   "display_name": "table2vec",
   "language": "python",
   "name": "table2vec"
  },
  "language_info": {
   "codemirror_mode": {
    "name": "ipython",
    "version": 3
   },
   "file_extension": ".py",
   "mimetype": "text/x-python",
   "name": "python",
   "nbconvert_exporter": "python",
   "pygments_lexer": "ipython3",
   "version": "3.7.6"
  }
 },
 "nbformat": 4,
 "nbformat_minor": 2
}
